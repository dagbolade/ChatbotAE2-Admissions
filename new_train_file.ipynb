{
 "cells": [
  {
   "cell_type": "markdown",
   "source": [
    "# TRAINING A CHATBOT INTENT CLASSIFIER\n"
   ],
   "metadata": {
    "collapsed": false
   },
   "id": "99094a427d54c713"
  },
  {
   "cell_type": "markdown",
   "source": [
    "## Importing the libraries"
   ],
   "metadata": {
    "collapsed": false
   },
   "id": "134da7d190ed59c7"
  },
  {
   "cell_type": "code",
   "execution_count": 76,
   "id": "initial_id",
   "metadata": {
    "collapsed": true,
    "ExecuteTime": {
     "end_time": "2024-03-02T05:31:32.705639100Z",
     "start_time": "2024-03-02T05:31:32.640761900Z"
    }
   },
   "outputs": [],
   "source": [
    "import nltk\n",
    "import numpy as np\n",
    "import random\n",
    "\n",
    "from nltk.stem import WordNetLemmatizer\n",
    "from nltk.tokenize import word_tokenize\n",
    "from nltk.corpus import stopwords"
   ]
  },
  {
   "cell_type": "markdown",
   "source": [],
   "metadata": {
    "collapsed": false
   },
   "id": "e57caff36d793732"
  },
  {
   "cell_type": "code",
   "execution_count": 77,
   "outputs": [
    {
     "name": "stderr",
     "output_type": "stream",
     "text": [
      "[nltk_data] Downloading package wordnet to\n",
      "[nltk_data]     C:\\Users\\dagbo_b40tnyc\\AppData\\Roaming\\nltk_data...\n",
      "[nltk_data]   Package wordnet is already up-to-date!\n",
      "[nltk_data] Downloading package stopwords to\n",
      "[nltk_data]     C:\\Users\\dagbo_b40tnyc\\AppData\\Roaming\\nltk_data...\n",
      "[nltk_data]   Package stopwords is already up-to-date!\n",
      "[nltk_data] Downloading package punkt to\n",
      "[nltk_data]     C:\\Users\\dagbo_b40tnyc\\AppData\\Roaming\\nltk_data...\n",
      "[nltk_data]   Package punkt is already up-to-date!\n"
     ]
    },
    {
     "data": {
      "text/plain": "True"
     },
     "execution_count": 77,
     "metadata": {},
     "output_type": "execute_result"
    }
   ],
   "source": [
    "# download the wordnet and stopwords corpus\n",
    "nltk.download('wordnet') # wordnet is a lexical database for the English language\n",
    "nltk.download('stopwords') # stopwords means words like 'the', 'a', 'an', 'is', 'are', etc.\n",
    "nltk.download('punkt') # punkt means punctuations"
   ],
   "metadata": {
    "collapsed": false,
    "ExecuteTime": {
     "end_time": "2024-03-02T05:31:32.723198700Z",
     "start_time": "2024-03-02T05:31:32.710509200Z"
    }
   },
   "id": "b7d8a74774003d99"
  },
  {
   "cell_type": "markdown",
   "source": [
    "## Importing the json file"
   ],
   "metadata": {
    "collapsed": false
   },
   "id": "6a97228fcbc64bf8"
  },
  {
   "cell_type": "code",
   "execution_count": 78,
   "outputs": [],
   "source": [
    "# import intents file\n",
    "import json\n",
    "\n",
    "def load_intents():\n",
    "    with open('intents.json') as file:\n",
    "        intents = json.load(file)\n",
    "    return intents\n",
    "\n",
    "intents = load_intents()"
   ],
   "metadata": {
    "collapsed": false,
    "ExecuteTime": {
     "end_time": "2024-03-02T05:31:32.785711900Z",
     "start_time": "2024-03-02T05:31:32.727103500Z"
    }
   },
   "id": "fd60388bcd7d0514"
  },
  {
   "cell_type": "markdown",
   "source": [
    "## Preprocessing the data"
   ],
   "metadata": {
    "collapsed": false
   },
   "id": "aa1e1a71f5a3e8f4"
  },
  {
   "cell_type": "code",
   "execution_count": 79,
   "outputs": [],
   "source": [
    "# initialize lemmatizer to get stem of words\n",
    "lemmatizer = WordNetLemmatizer() # lemma is the root form of the word and it is very accurate than stemming\n",
    "\n",
    "\n",
    "# loop through each sentence in the intent's patterns\n",
    "def preprocess_intents(intents):\n",
    "    # create empty lists for documents, classes and words\n",
    "    documents = [] # documents means patterns\n",
    "    classes = [] # classes means tags\n",
    "    words = [] # words means vocabulary\n",
    "    ignore_letters = ['!', '?', ',', '.'] # ignore these letters\n",
    "    stop_words = set(stopwords.words('english')) # stop words are words like 'the', 'a', 'an', 'is', 'are', etc.\n",
    "\n",
    "\n",
    "    for intent in intents['intents']:\n",
    "        \n",
    "        # debug for keyerror @ 'patterns'\n",
    "        # print(intent['patterns'])\n",
    "        for pattern in intent['patterns']:\n",
    "            # tokenize each and every word in the sentence\n",
    "            word = nltk.word_tokenize(pattern) \n",
    "            # lemmatize each word and convert into lowercase\n",
    "            word = [lemmatizer.lemmatize(w.lower()) for w in word if w not in stop_words and w not in ignore_letters]\n",
    "            # add word to the word list\n",
    "            words.extend(word) # extend means add to the list and append means add to the end of the list\n",
    "            # add word(s) to documents\n",
    "            documents.append((word, intent['tag'])) #\n",
    "            # add tags to our classes list\n",
    "            if intent['tag'] not in classes: # if tag is not in classes list\n",
    "                classes.append(intent['tag']) # then add it to the classes list\n",
    "                \n",
    "    # sort words and remove duplicates\n",
    "    words = sorted(list(set(words)))\n",
    "    # sort classes\n",
    "    classes = sorted(list(set(classes)))\n",
    "    return documents, classes, words\n",
    "\n",
    "documents, classes, words = preprocess_intents(intents)\n"
   ],
   "metadata": {
    "collapsed": false,
    "ExecuteTime": {
     "end_time": "2024-03-02T05:31:32.808748Z",
     "start_time": "2024-03-02T05:31:32.746631700Z"
    }
   },
   "id": "ec96ddaa4d2cd674"
  },
  {
   "cell_type": "markdown",
   "source": [
    "## save the preprocessed data"
   ],
   "metadata": {
    "collapsed": false
   },
   "id": "1361248a261d307b"
  },
  {
   "cell_type": "code",
   "execution_count": 80,
   "outputs": [],
   "source": [
    "import pickle\n",
    "\n",
    "#save to file using pickle to dump\n",
    "pickle.dump(words, open ('words.pkl', 'wb'))#wb means writing into binariries\n",
    "pickle.dump(classes, open ('classes.pkl', 'wb'))\n"
   ],
   "metadata": {
    "collapsed": false,
    "ExecuteTime": {
     "end_time": "2024-03-02T05:31:32.811677900Z",
     "start_time": "2024-03-02T05:31:32.794510100Z"
    }
   },
   "id": "3c99826bd5b37a6"
  },
  {
   "cell_type": "markdown",
   "source": [
    "## Create training and testing data"
   ],
   "metadata": {
    "collapsed": false
   },
   "id": "7df4fb694b944680"
  },
  {
   "cell_type": "code",
   "execution_count": 81,
   "outputs": [],
   "source": [
    "\n",
    "#represents the words as numerical values using bag_of_words\n",
    "train = []\n",
    "empty_output = [0] * len(classes)\n",
    "\n",
    "for doc in documents:\n",
    "    #create an empty list of bag of words\n",
    "    bag = []\n",
    "    word_patterns = doc[0]\n",
    "    word_patterns = [lemmatizer.lemmatize(word.lower()) for word in word_patterns]\n",
    "    for word in words:\n",
    "        bag.append(1) if word in word_patterns  else bag.append(0)\n",
    "    \n",
    "    output = list(empty_output)\n",
    "    output[classes.index(doc[1])] = 1\n",
    "    # Ensure the 'bag' has the same length as 'words'\n",
    "    assert len(bag) == len(words), f\"Bag length: {len(bag)}, expected: {len(words)}\"\n",
    "    \n",
    "    # Ensure the 'output' has the same length as 'classes'\n",
    "    assert len(output) == len(classes), f\"Output length: {len(output)}, expected: {len(classes)}\"\n",
    "    train.append([bag, output])"
   ],
   "metadata": {
    "collapsed": false,
    "ExecuteTime": {
     "end_time": "2024-03-02T05:31:32.853684600Z",
     "start_time": "2024-03-02T05:31:32.829252800Z"
    }
   },
   "id": "7452a7b953f89515"
  },
  {
   "cell_type": "code",
   "execution_count": 82,
   "outputs": [],
   "source": [
    "# shuffle the features and make numpy array\n",
    "random.shuffle(train)\n",
    "# Before converting to a NumPy array, ensure all elements in 'train' have the same length\n",
    "#assert all(len(item) == len(train[0]) for item in train), \"Not all lists in 'train' have the same length.\"\n",
    "train = np.array(train, dtype=object)\n",
    "\n",
    "# create train and test lists. X - patterns, Y - intents\n",
    "train_x = list(train[:,0])\n",
    "train_y = list(train[:,1])\n",
    "\n"
   ],
   "metadata": {
    "collapsed": false,
    "ExecuteTime": {
     "end_time": "2024-03-02T05:31:32.854647900Z",
     "start_time": "2024-03-02T05:31:32.836103700Z"
    }
   },
   "id": "61519d1a972130b0"
  },
  {
   "cell_type": "markdown",
   "source": [
    "## Building the model using long short term memory (LSTM)"
   ],
   "metadata": {
    "collapsed": false
   },
   "id": "9466fc7cc7a044fa"
  },
  {
   "cell_type": "code",
   "execution_count": 83,
   "outputs": [],
   "source": [
    "# import tensorflow libraries\n",
    "import tensorflow as tf\n",
    "from tensorflow.keras.models import Sequential\n",
    "from tensorflow.keras.layers import Dense, Activation, Dropout\n",
    "from tensorflow.keras.optimizers import SGD\n",
    "from tensorflow.keras.optimizers.schedules import ExponentialDecay # learning rate decay over each update\n",
    "\n",
    "# Create a learning rate schedule\n",
    "lr_schedule = ExponentialDecay(\n",
    "    initial_learning_rate=0.01,\n",
    "    decay_steps=100000,\n",
    "    decay_rate=0.96,\n",
    "    staircase=True)\n",
    "\n",
    "# Build the model\n",
    "model = Sequential()\n",
    "model.add(Dense(128, input_shape=(len(train_x[0]),), activation='relu')) # input layer\n",
    "model.add(Dropout(0.5))\n",
    "model.add(Dense(64, activation='relu')) # hidden layer\n",
    "model.add(Dropout(0.5))\n",
    "model.add(Dense(len(train_y[0]), activation='softmax')) # output layer\n",
    "\n",
    "# Compile the model\n",
    "sgd = SGD(learning_rate=lr_schedule, momentum=0.9, nesterov=True) # stochastic gradient descent\n",
    "model.compile(loss='categorical_crossentropy', optimizer=sgd, metrics=['accuracy'])\n",
    "\n"
   ],
   "metadata": {
    "collapsed": false,
    "ExecuteTime": {
     "end_time": "2024-03-02T05:31:32.920679200Z",
     "start_time": "2024-03-02T05:31:32.849787500Z"
    }
   },
   "id": "f12e6e3ee3b2b1ee"
  },
  {
   "cell_type": "markdown",
   "source": [
    "## Training and saving the model"
   ],
   "metadata": {
    "collapsed": false
   },
   "id": "f38cafa22d677c7a"
  },
  {
   "cell_type": "code",
   "execution_count": 84,
   "outputs": [
    {
     "name": "stdout",
     "output_type": "stream",
     "text": [
      "Epoch 1/200\n",
      "56/56 [==============================] - 1s 2ms/step - loss: 4.3690 - accuracy: 0.0071\n",
      "Epoch 2/200\n",
      "56/56 [==============================] - 0s 2ms/step - loss: 4.3470 - accuracy: 0.0321\n",
      "Epoch 3/200\n",
      "56/56 [==============================] - 0s 2ms/step - loss: 4.3026 - accuracy: 0.0357\n",
      "Epoch 4/200\n",
      "56/56 [==============================] - 0s 2ms/step - loss: 4.2794 - accuracy: 0.0321\n",
      "Epoch 5/200\n",
      "56/56 [==============================] - 0s 3ms/step - loss: 4.2452 - accuracy: 0.0429\n",
      "Epoch 6/200\n",
      "56/56 [==============================] - 0s 3ms/step - loss: 4.1864 - accuracy: 0.0500\n",
      "Epoch 7/200\n",
      "56/56 [==============================] - 0s 2ms/step - loss: 4.1204 - accuracy: 0.0571\n",
      "Epoch 8/200\n",
      "56/56 [==============================] - 0s 2ms/step - loss: 4.0628 - accuracy: 0.0786\n",
      "Epoch 9/200\n",
      "56/56 [==============================] - 0s 3ms/step - loss: 3.9542 - accuracy: 0.0893\n",
      "Epoch 10/200\n",
      "56/56 [==============================] - 0s 2ms/step - loss: 3.8861 - accuracy: 0.0964\n",
      "Epoch 11/200\n",
      "56/56 [==============================] - 0s 2ms/step - loss: 3.7527 - accuracy: 0.1571\n",
      "Epoch 12/200\n",
      "56/56 [==============================] - 0s 2ms/step - loss: 3.6206 - accuracy: 0.1536\n",
      "Epoch 13/200\n",
      "56/56 [==============================] - 0s 2ms/step - loss: 3.4486 - accuracy: 0.1714\n",
      "Epoch 14/200\n",
      "56/56 [==============================] - 0s 2ms/step - loss: 3.4037 - accuracy: 0.1750\n",
      "Epoch 15/200\n",
      "56/56 [==============================] - 0s 2ms/step - loss: 3.2730 - accuracy: 0.2071\n",
      "Epoch 16/200\n",
      "56/56 [==============================] - 0s 2ms/step - loss: 3.1006 - accuracy: 0.2464\n",
      "Epoch 17/200\n",
      "56/56 [==============================] - 0s 2ms/step - loss: 2.9911 - accuracy: 0.2357\n",
      "Epoch 18/200\n",
      "56/56 [==============================] - 0s 2ms/step - loss: 2.8558 - accuracy: 0.2857\n",
      "Epoch 19/200\n",
      "56/56 [==============================] - 0s 2ms/step - loss: 2.7156 - accuracy: 0.3107\n",
      "Epoch 20/200\n",
      "56/56 [==============================] - 0s 2ms/step - loss: 2.6463 - accuracy: 0.3107\n",
      "Epoch 21/200\n",
      "56/56 [==============================] - 0s 2ms/step - loss: 2.4924 - accuracy: 0.3643\n",
      "Epoch 22/200\n",
      "56/56 [==============================] - 0s 2ms/step - loss: 2.3711 - accuracy: 0.3607\n",
      "Epoch 23/200\n",
      "56/56 [==============================] - 0s 2ms/step - loss: 2.3935 - accuracy: 0.3143\n",
      "Epoch 24/200\n",
      "56/56 [==============================] - 0s 2ms/step - loss: 2.3650 - accuracy: 0.3536\n",
      "Epoch 25/200\n",
      "56/56 [==============================] - 0s 2ms/step - loss: 2.0673 - accuracy: 0.4357\n",
      "Epoch 26/200\n",
      "56/56 [==============================] - 0s 2ms/step - loss: 1.9648 - accuracy: 0.3964\n",
      "Epoch 27/200\n",
      "56/56 [==============================] - 0s 2ms/step - loss: 2.0017 - accuracy: 0.4286\n",
      "Epoch 28/200\n",
      "56/56 [==============================] - 0s 2ms/step - loss: 2.0450 - accuracy: 0.3964\n",
      "Epoch 29/200\n",
      "56/56 [==============================] - 0s 2ms/step - loss: 1.9039 - accuracy: 0.4679\n",
      "Epoch 30/200\n",
      "56/56 [==============================] - 0s 2ms/step - loss: 1.7388 - accuracy: 0.4964\n",
      "Epoch 31/200\n",
      "56/56 [==============================] - 0s 2ms/step - loss: 1.7446 - accuracy: 0.5357\n",
      "Epoch 32/200\n",
      "56/56 [==============================] - 0s 2ms/step - loss: 1.7680 - accuracy: 0.5036\n",
      "Epoch 33/200\n",
      "56/56 [==============================] - 0s 2ms/step - loss: 1.7335 - accuracy: 0.4714\n",
      "Epoch 34/200\n",
      "56/56 [==============================] - 0s 2ms/step - loss: 1.5990 - accuracy: 0.5500\n",
      "Epoch 35/200\n",
      "56/56 [==============================] - 0s 2ms/step - loss: 1.6299 - accuracy: 0.5429\n",
      "Epoch 36/200\n",
      "56/56 [==============================] - 0s 2ms/step - loss: 1.3414 - accuracy: 0.6214\n",
      "Epoch 37/200\n",
      "56/56 [==============================] - 0s 2ms/step - loss: 1.4740 - accuracy: 0.5143\n",
      "Epoch 38/200\n",
      "56/56 [==============================] - 0s 2ms/step - loss: 1.4255 - accuracy: 0.6036\n",
      "Epoch 39/200\n",
      "56/56 [==============================] - 0s 2ms/step - loss: 1.4573 - accuracy: 0.5893\n",
      "Epoch 40/200\n",
      "56/56 [==============================] - 0s 2ms/step - loss: 1.2953 - accuracy: 0.5893\n",
      "Epoch 41/200\n",
      "56/56 [==============================] - 0s 2ms/step - loss: 1.1644 - accuracy: 0.6714\n",
      "Epoch 42/200\n",
      "56/56 [==============================] - 0s 2ms/step - loss: 1.3520 - accuracy: 0.5786\n",
      "Epoch 43/200\n",
      "56/56 [==============================] - 0s 2ms/step - loss: 1.2942 - accuracy: 0.6143\n",
      "Epoch 44/200\n",
      "56/56 [==============================] - 0s 2ms/step - loss: 1.2990 - accuracy: 0.5500\n",
      "Epoch 45/200\n",
      "56/56 [==============================] - 0s 2ms/step - loss: 1.2304 - accuracy: 0.6071\n",
      "Epoch 46/200\n",
      "56/56 [==============================] - 0s 2ms/step - loss: 1.1555 - accuracy: 0.6143\n",
      "Epoch 47/200\n",
      "56/56 [==============================] - 0s 2ms/step - loss: 1.1898 - accuracy: 0.6393\n",
      "Epoch 48/200\n",
      "56/56 [==============================] - 0s 2ms/step - loss: 1.0379 - accuracy: 0.6679\n",
      "Epoch 49/200\n",
      "56/56 [==============================] - 0s 2ms/step - loss: 1.1442 - accuracy: 0.5964\n",
      "Epoch 50/200\n",
      "56/56 [==============================] - 0s 2ms/step - loss: 1.1514 - accuracy: 0.6429\n",
      "Epoch 51/200\n",
      "56/56 [==============================] - 0s 2ms/step - loss: 1.2082 - accuracy: 0.6250\n",
      "Epoch 52/200\n",
      "56/56 [==============================] - 0s 2ms/step - loss: 1.1830 - accuracy: 0.6214\n",
      "Epoch 53/200\n",
      "56/56 [==============================] - 0s 2ms/step - loss: 1.0629 - accuracy: 0.6286\n",
      "Epoch 54/200\n",
      "56/56 [==============================] - 0s 2ms/step - loss: 1.0443 - accuracy: 0.6929\n",
      "Epoch 55/200\n",
      "56/56 [==============================] - 0s 2ms/step - loss: 1.0447 - accuracy: 0.6536\n",
      "Epoch 56/200\n",
      "56/56 [==============================] - 0s 2ms/step - loss: 1.1029 - accuracy: 0.6321\n",
      "Epoch 57/200\n",
      "56/56 [==============================] - 0s 2ms/step - loss: 1.0257 - accuracy: 0.6607\n",
      "Epoch 58/200\n",
      "56/56 [==============================] - 0s 2ms/step - loss: 1.0183 - accuracy: 0.6821\n",
      "Epoch 59/200\n",
      "56/56 [==============================] - 0s 2ms/step - loss: 0.9388 - accuracy: 0.6571\n",
      "Epoch 60/200\n",
      "56/56 [==============================] - 0s 2ms/step - loss: 0.9943 - accuracy: 0.6750\n",
      "Epoch 61/200\n",
      "56/56 [==============================] - 0s 2ms/step - loss: 0.8884 - accuracy: 0.7036\n",
      "Epoch 62/200\n",
      "56/56 [==============================] - 0s 2ms/step - loss: 0.9503 - accuracy: 0.6893\n",
      "Epoch 63/200\n",
      "56/56 [==============================] - 0s 2ms/step - loss: 0.9116 - accuracy: 0.7071\n",
      "Epoch 64/200\n",
      "56/56 [==============================] - 0s 2ms/step - loss: 0.8832 - accuracy: 0.7179\n",
      "Epoch 65/200\n",
      "56/56 [==============================] - 0s 2ms/step - loss: 0.8691 - accuracy: 0.7143\n",
      "Epoch 66/200\n",
      "56/56 [==============================] - 0s 2ms/step - loss: 0.8171 - accuracy: 0.7143\n",
      "Epoch 67/200\n",
      "56/56 [==============================] - 0s 2ms/step - loss: 0.9484 - accuracy: 0.6857\n",
      "Epoch 68/200\n",
      "56/56 [==============================] - 0s 2ms/step - loss: 0.8729 - accuracy: 0.7071\n",
      "Epoch 69/200\n",
      "56/56 [==============================] - 0s 2ms/step - loss: 0.8852 - accuracy: 0.7000\n",
      "Epoch 70/200\n",
      "56/56 [==============================] - 0s 2ms/step - loss: 0.8164 - accuracy: 0.7071\n",
      "Epoch 71/200\n",
      "56/56 [==============================] - 0s 2ms/step - loss: 0.8425 - accuracy: 0.7036\n",
      "Epoch 72/200\n",
      "56/56 [==============================] - 0s 2ms/step - loss: 0.8123 - accuracy: 0.7286\n",
      "Epoch 73/200\n",
      "56/56 [==============================] - 0s 2ms/step - loss: 0.8336 - accuracy: 0.7143\n",
      "Epoch 74/200\n",
      "56/56 [==============================] - 0s 2ms/step - loss: 0.8342 - accuracy: 0.7393\n",
      "Epoch 75/200\n",
      "56/56 [==============================] - 0s 2ms/step - loss: 0.8482 - accuracy: 0.7179\n",
      "Epoch 76/200\n",
      "56/56 [==============================] - 0s 2ms/step - loss: 0.8892 - accuracy: 0.7179\n",
      "Epoch 77/200\n",
      "56/56 [==============================] - 0s 2ms/step - loss: 0.8720 - accuracy: 0.6857\n",
      "Epoch 78/200\n",
      "56/56 [==============================] - 0s 3ms/step - loss: 0.7835 - accuracy: 0.7464\n",
      "Epoch 79/200\n",
      "56/56 [==============================] - 0s 3ms/step - loss: 0.8618 - accuracy: 0.7071\n",
      "Epoch 80/200\n",
      "56/56 [==============================] - 0s 4ms/step - loss: 0.7869 - accuracy: 0.7393\n",
      "Epoch 81/200\n",
      "56/56 [==============================] - 0s 2ms/step - loss: 0.7405 - accuracy: 0.7607\n",
      "Epoch 82/200\n",
      "56/56 [==============================] - 0s 2ms/step - loss: 0.8316 - accuracy: 0.7536\n",
      "Epoch 83/200\n",
      "56/56 [==============================] - 0s 2ms/step - loss: 0.8134 - accuracy: 0.7500\n",
      "Epoch 84/200\n",
      "56/56 [==============================] - 0s 2ms/step - loss: 0.7987 - accuracy: 0.7464\n",
      "Epoch 85/200\n",
      "56/56 [==============================] - 0s 2ms/step - loss: 0.7984 - accuracy: 0.7429\n",
      "Epoch 86/200\n",
      "56/56 [==============================] - 0s 2ms/step - loss: 0.7920 - accuracy: 0.7286\n",
      "Epoch 87/200\n",
      "56/56 [==============================] - 0s 2ms/step - loss: 0.6859 - accuracy: 0.7250\n",
      "Epoch 88/200\n",
      "56/56 [==============================] - 0s 2ms/step - loss: 0.7762 - accuracy: 0.7429\n",
      "Epoch 89/200\n",
      "56/56 [==============================] - 0s 2ms/step - loss: 0.7852 - accuracy: 0.6964\n",
      "Epoch 90/200\n",
      "56/56 [==============================] - 0s 2ms/step - loss: 0.7079 - accuracy: 0.7286\n",
      "Epoch 91/200\n",
      "56/56 [==============================] - 0s 2ms/step - loss: 0.7645 - accuracy: 0.7143\n",
      "Epoch 92/200\n",
      "56/56 [==============================] - 0s 2ms/step - loss: 0.7095 - accuracy: 0.7750\n",
      "Epoch 93/200\n",
      "56/56 [==============================] - 0s 2ms/step - loss: 0.7773 - accuracy: 0.7429\n",
      "Epoch 94/200\n",
      "56/56 [==============================] - 0s 2ms/step - loss: 0.7230 - accuracy: 0.7179\n",
      "Epoch 95/200\n",
      "56/56 [==============================] - 0s 2ms/step - loss: 0.7388 - accuracy: 0.7571\n",
      "Epoch 96/200\n",
      "56/56 [==============================] - 0s 2ms/step - loss: 0.7035 - accuracy: 0.7357\n",
      "Epoch 97/200\n",
      "56/56 [==============================] - 0s 2ms/step - loss: 0.6718 - accuracy: 0.7750\n",
      "Epoch 98/200\n",
      "56/56 [==============================] - 0s 2ms/step - loss: 0.7579 - accuracy: 0.7429\n",
      "Epoch 99/200\n",
      "56/56 [==============================] - 0s 2ms/step - loss: 0.5750 - accuracy: 0.7964\n",
      "Epoch 100/200\n",
      "56/56 [==============================] - 0s 2ms/step - loss: 0.6791 - accuracy: 0.7893\n",
      "Epoch 101/200\n",
      "56/56 [==============================] - 0s 2ms/step - loss: 0.6309 - accuracy: 0.7679\n",
      "Epoch 102/200\n",
      "56/56 [==============================] - 0s 2ms/step - loss: 0.7584 - accuracy: 0.7464\n",
      "Epoch 103/200\n",
      "56/56 [==============================] - 0s 2ms/step - loss: 0.6593 - accuracy: 0.7536\n",
      "Epoch 104/200\n",
      "56/56 [==============================] - 0s 2ms/step - loss: 0.7288 - accuracy: 0.7607\n",
      "Epoch 105/200\n",
      "56/56 [==============================] - 0s 2ms/step - loss: 0.6682 - accuracy: 0.7714\n",
      "Epoch 106/200\n",
      "56/56 [==============================] - 0s 2ms/step - loss: 0.7090 - accuracy: 0.7607\n",
      "Epoch 107/200\n",
      "56/56 [==============================] - 0s 2ms/step - loss: 0.6334 - accuracy: 0.7500\n",
      "Epoch 108/200\n",
      "56/56 [==============================] - 0s 2ms/step - loss: 0.6238 - accuracy: 0.7821\n",
      "Epoch 109/200\n",
      "56/56 [==============================] - 0s 2ms/step - loss: 0.6382 - accuracy: 0.7536\n",
      "Epoch 110/200\n",
      "56/56 [==============================] - 0s 2ms/step - loss: 0.6281 - accuracy: 0.7607\n",
      "Epoch 111/200\n",
      "56/56 [==============================] - 0s 2ms/step - loss: 0.5239 - accuracy: 0.8036\n",
      "Epoch 112/200\n",
      "56/56 [==============================] - 0s 2ms/step - loss: 0.7373 - accuracy: 0.7500\n",
      "Epoch 113/200\n",
      "56/56 [==============================] - 0s 2ms/step - loss: 0.6759 - accuracy: 0.7750\n",
      "Epoch 114/200\n",
      "56/56 [==============================] - 0s 2ms/step - loss: 0.5612 - accuracy: 0.7929\n",
      "Epoch 115/200\n",
      "56/56 [==============================] - 0s 2ms/step - loss: 0.6968 - accuracy: 0.7393\n",
      "Epoch 116/200\n",
      "56/56 [==============================] - 0s 2ms/step - loss: 0.6088 - accuracy: 0.7714\n",
      "Epoch 117/200\n",
      "56/56 [==============================] - 0s 2ms/step - loss: 0.6736 - accuracy: 0.7607\n",
      "Epoch 118/200\n",
      "56/56 [==============================] - 0s 2ms/step - loss: 0.6307 - accuracy: 0.7643\n",
      "Epoch 119/200\n",
      "56/56 [==============================] - 0s 2ms/step - loss: 0.8441 - accuracy: 0.6929\n",
      "Epoch 120/200\n",
      "56/56 [==============================] - 0s 2ms/step - loss: 0.6070 - accuracy: 0.7964\n",
      "Epoch 121/200\n",
      "56/56 [==============================] - 0s 2ms/step - loss: 0.5914 - accuracy: 0.7786\n",
      "Epoch 122/200\n",
      "56/56 [==============================] - 0s 2ms/step - loss: 0.7326 - accuracy: 0.7214\n",
      "Epoch 123/200\n",
      "56/56 [==============================] - 0s 2ms/step - loss: 0.6386 - accuracy: 0.7893\n",
      "Epoch 124/200\n",
      "56/56 [==============================] - 0s 2ms/step - loss: 0.5312 - accuracy: 0.7893\n",
      "Epoch 125/200\n",
      "56/56 [==============================] - 0s 2ms/step - loss: 0.5814 - accuracy: 0.7893\n",
      "Epoch 126/200\n",
      "56/56 [==============================] - 0s 2ms/step - loss: 0.6564 - accuracy: 0.7679\n",
      "Epoch 127/200\n",
      "56/56 [==============================] - 0s 2ms/step - loss: 0.6071 - accuracy: 0.7821\n",
      "Epoch 128/200\n",
      "56/56 [==============================] - 0s 2ms/step - loss: 0.6402 - accuracy: 0.7857\n",
      "Epoch 129/200\n",
      "56/56 [==============================] - 0s 2ms/step - loss: 0.5506 - accuracy: 0.8071\n",
      "Epoch 130/200\n",
      "56/56 [==============================] - 0s 2ms/step - loss: 0.6235 - accuracy: 0.7821\n",
      "Epoch 131/200\n",
      "56/56 [==============================] - 0s 2ms/step - loss: 0.5967 - accuracy: 0.7643\n",
      "Epoch 132/200\n",
      "56/56 [==============================] - 0s 2ms/step - loss: 0.6241 - accuracy: 0.7679\n",
      "Epoch 133/200\n",
      "56/56 [==============================] - 0s 2ms/step - loss: 0.4864 - accuracy: 0.8250\n",
      "Epoch 134/200\n",
      "56/56 [==============================] - 0s 2ms/step - loss: 0.5444 - accuracy: 0.7679\n",
      "Epoch 135/200\n",
      "56/56 [==============================] - 0s 2ms/step - loss: 0.6095 - accuracy: 0.7429\n",
      "Epoch 136/200\n",
      "56/56 [==============================] - 0s 2ms/step - loss: 0.6875 - accuracy: 0.7500\n",
      "Epoch 137/200\n",
      "56/56 [==============================] - 0s 2ms/step - loss: 0.5375 - accuracy: 0.8071\n",
      "Epoch 138/200\n",
      "56/56 [==============================] - 0s 2ms/step - loss: 0.6789 - accuracy: 0.7429\n",
      "Epoch 139/200\n",
      "56/56 [==============================] - 0s 2ms/step - loss: 0.5888 - accuracy: 0.8036\n",
      "Epoch 140/200\n",
      "56/56 [==============================] - 0s 2ms/step - loss: 0.6328 - accuracy: 0.7929\n",
      "Epoch 141/200\n",
      "56/56 [==============================] - 0s 2ms/step - loss: 0.5606 - accuracy: 0.7679\n",
      "Epoch 142/200\n",
      "56/56 [==============================] - 0s 2ms/step - loss: 0.6151 - accuracy: 0.7714\n",
      "Epoch 143/200\n",
      "56/56 [==============================] - 0s 2ms/step - loss: 0.6120 - accuracy: 0.7786\n",
      "Epoch 144/200\n",
      "56/56 [==============================] - 0s 2ms/step - loss: 0.6021 - accuracy: 0.7821\n",
      "Epoch 145/200\n",
      "56/56 [==============================] - 0s 3ms/step - loss: 0.5166 - accuracy: 0.8107\n",
      "Epoch 146/200\n",
      "56/56 [==============================] - 0s 3ms/step - loss: 0.6077 - accuracy: 0.7643\n",
      "Epoch 147/200\n",
      "56/56 [==============================] - 0s 2ms/step - loss: 0.5409 - accuracy: 0.7893\n",
      "Epoch 148/200\n",
      "56/56 [==============================] - 0s 2ms/step - loss: 0.5400 - accuracy: 0.7857\n",
      "Epoch 149/200\n",
      "56/56 [==============================] - 0s 2ms/step - loss: 0.6495 - accuracy: 0.7643\n",
      "Epoch 150/200\n",
      "56/56 [==============================] - 0s 2ms/step - loss: 0.5830 - accuracy: 0.7750\n",
      "Epoch 151/200\n",
      "56/56 [==============================] - 0s 2ms/step - loss: 0.7282 - accuracy: 0.7214\n",
      "Epoch 152/200\n",
      "56/56 [==============================] - 0s 2ms/step - loss: 0.5930 - accuracy: 0.7750\n",
      "Epoch 153/200\n",
      "56/56 [==============================] - 0s 2ms/step - loss: 0.5667 - accuracy: 0.7893\n",
      "Epoch 154/200\n",
      "56/56 [==============================] - 0s 2ms/step - loss: 0.5577 - accuracy: 0.7821\n",
      "Epoch 155/200\n",
      "56/56 [==============================] - 0s 2ms/step - loss: 0.5097 - accuracy: 0.8107\n",
      "Epoch 156/200\n",
      "56/56 [==============================] - 0s 2ms/step - loss: 0.5872 - accuracy: 0.7964\n",
      "Epoch 157/200\n",
      "56/56 [==============================] - 0s 2ms/step - loss: 0.5754 - accuracy: 0.7929\n",
      "Epoch 158/200\n",
      "56/56 [==============================] - 0s 2ms/step - loss: 0.5881 - accuracy: 0.7750\n",
      "Epoch 159/200\n",
      "56/56 [==============================] - 0s 2ms/step - loss: 0.5703 - accuracy: 0.7786\n",
      "Epoch 160/200\n",
      "56/56 [==============================] - 0s 2ms/step - loss: 0.5334 - accuracy: 0.8071\n",
      "Epoch 161/200\n",
      "56/56 [==============================] - 0s 2ms/step - loss: 0.5646 - accuracy: 0.7786\n",
      "Epoch 162/200\n",
      "56/56 [==============================] - 0s 2ms/step - loss: 0.5705 - accuracy: 0.8107\n",
      "Epoch 163/200\n",
      "56/56 [==============================] - 0s 3ms/step - loss: 0.6876 - accuracy: 0.7500\n",
      "Epoch 164/200\n",
      "56/56 [==============================] - 0s 2ms/step - loss: 0.5301 - accuracy: 0.7714\n",
      "Epoch 165/200\n",
      "56/56 [==============================] - 0s 2ms/step - loss: 0.6045 - accuracy: 0.7964\n",
      "Epoch 166/200\n",
      "56/56 [==============================] - 0s 2ms/step - loss: 0.5870 - accuracy: 0.7750\n",
      "Epoch 167/200\n",
      "56/56 [==============================] - 0s 2ms/step - loss: 0.5867 - accuracy: 0.7786\n",
      "Epoch 168/200\n",
      "56/56 [==============================] - 0s 2ms/step - loss: 0.5311 - accuracy: 0.7750\n",
      "Epoch 169/200\n",
      "56/56 [==============================] - 0s 2ms/step - loss: 0.6516 - accuracy: 0.7536\n",
      "Epoch 170/200\n",
      "56/56 [==============================] - 0s 2ms/step - loss: 0.6401 - accuracy: 0.7857\n",
      "Epoch 171/200\n",
      "56/56 [==============================] - 0s 2ms/step - loss: 0.5333 - accuracy: 0.8179\n",
      "Epoch 172/200\n",
      "56/56 [==============================] - 0s 2ms/step - loss: 0.5433 - accuracy: 0.7857\n",
      "Epoch 173/200\n",
      "56/56 [==============================] - 0s 2ms/step - loss: 0.5887 - accuracy: 0.7821\n",
      "Epoch 174/200\n",
      "56/56 [==============================] - 0s 2ms/step - loss: 0.5277 - accuracy: 0.8143\n",
      "Epoch 175/200\n",
      "56/56 [==============================] - 0s 2ms/step - loss: 0.5477 - accuracy: 0.7929\n",
      "Epoch 176/200\n",
      "56/56 [==============================] - 0s 2ms/step - loss: 0.6143 - accuracy: 0.7643\n",
      "Epoch 177/200\n",
      "56/56 [==============================] - 0s 2ms/step - loss: 0.5173 - accuracy: 0.7821\n",
      "Epoch 178/200\n",
      "56/56 [==============================] - 0s 2ms/step - loss: 0.5822 - accuracy: 0.8143\n",
      "Epoch 179/200\n",
      "56/56 [==============================] - 0s 2ms/step - loss: 0.6148 - accuracy: 0.7893\n",
      "Epoch 180/200\n",
      "56/56 [==============================] - 0s 2ms/step - loss: 0.5904 - accuracy: 0.7786\n",
      "Epoch 181/200\n",
      "56/56 [==============================] - 0s 2ms/step - loss: 0.6884 - accuracy: 0.7643\n",
      "Epoch 182/200\n",
      "56/56 [==============================] - 0s 2ms/step - loss: 0.4774 - accuracy: 0.8393\n",
      "Epoch 183/200\n",
      "56/56 [==============================] - 0s 2ms/step - loss: 0.4284 - accuracy: 0.8500\n",
      "Epoch 184/200\n",
      "56/56 [==============================] - 0s 2ms/step - loss: 0.5068 - accuracy: 0.8107\n",
      "Epoch 185/200\n",
      "56/56 [==============================] - 0s 2ms/step - loss: 0.5787 - accuracy: 0.7929\n",
      "Epoch 186/200\n",
      "56/56 [==============================] - 0s 2ms/step - loss: 0.6317 - accuracy: 0.7536\n",
      "Epoch 187/200\n",
      "56/56 [==============================] - 0s 2ms/step - loss: 0.5684 - accuracy: 0.7964\n",
      "Epoch 188/200\n",
      "56/56 [==============================] - 0s 2ms/step - loss: 0.5170 - accuracy: 0.8036\n",
      "Epoch 189/200\n",
      "56/56 [==============================] - 0s 2ms/step - loss: 0.4931 - accuracy: 0.8036\n",
      "Epoch 190/200\n",
      "56/56 [==============================] - 0s 2ms/step - loss: 0.5898 - accuracy: 0.8107\n",
      "Epoch 191/200\n",
      "56/56 [==============================] - 0s 2ms/step - loss: 0.5204 - accuracy: 0.7893\n",
      "Epoch 192/200\n",
      "56/56 [==============================] - 0s 2ms/step - loss: 0.5836 - accuracy: 0.7821\n",
      "Epoch 193/200\n",
      "56/56 [==============================] - 0s 2ms/step - loss: 0.5469 - accuracy: 0.7857\n",
      "Epoch 194/200\n",
      "56/56 [==============================] - 0s 2ms/step - loss: 0.4099 - accuracy: 0.8571\n",
      "Epoch 195/200\n",
      "56/56 [==============================] - 0s 2ms/step - loss: 0.4390 - accuracy: 0.8179\n",
      "Epoch 196/200\n",
      "56/56 [==============================] - 0s 2ms/step - loss: 0.6113 - accuracy: 0.7714\n",
      "Epoch 197/200\n",
      "56/56 [==============================] - 0s 2ms/step - loss: 0.4918 - accuracy: 0.8250\n",
      "Epoch 198/200\n",
      "56/56 [==============================] - 0s 2ms/step - loss: 0.5100 - accuracy: 0.8179\n",
      "Epoch 199/200\n",
      "56/56 [==============================] - 0s 2ms/step - loss: 0.5695 - accuracy: 0.7821\n",
      "Epoch 200/200\n",
      "56/56 [==============================] - 0s 3ms/step - loss: 0.5035 - accuracy: 0.8357\n",
      "9/9 [==============================] - 0s 3ms/step - loss: 0.1536 - accuracy: 0.9143\n",
      "Loss: 0.15360520780086517, accuracy: 0.9142857193946838\n"
     ]
    }
   ],
   "source": [
    "# Training and saving the model\n",
    "solentBot = model.fit(np.array(train_x), np.array(train_y), epochs=200, batch_size=5, verbose=1)\n",
    "loss, accuracy = model.evaluate(np.array(train_x), np.array(train_y))\n",
    "print(f\"Loss: {loss}, accuracy: {accuracy}\")\n",
    "#model.save('solentBot_model.h5', solentBot)"
   ],
   "metadata": {
    "collapsed": false,
    "ExecuteTime": {
     "end_time": "2024-03-02T05:31:59.256215600Z",
     "start_time": "2024-03-02T05:31:32.916775Z"
    }
   },
   "id": "bb88c814a747a8c8"
  },
  {
   "cell_type": "code",
   "execution_count": 85,
   "outputs": [
    {
     "name": "stdout",
     "output_type": "stream",
     "text": [
      "model created, saved and trained\n"
     ]
    }
   ],
   "source": [
    "# save the model to disk\n",
    "model.save('solentBot_model.h5', solentBot)\n",
    "print(\"model created, saved and trained\")"
   ],
   "metadata": {
    "collapsed": false,
    "ExecuteTime": {
     "end_time": "2024-03-02T05:31:59.322148700Z",
     "start_time": "2024-03-02T05:31:59.272358100Z"
    }
   },
   "id": "b651e51c6321de7e"
  },
  {
   "cell_type": "code",
   "outputs": [],
   "source": [
    "# evaluate the model to check for confidence score of the predictions\n",
    "def bag_of_words(s, words):\n",
    "    bag = [0 for _ in range(len(words))]\n",
    "    \n",
    "    s_words = nltk.word_tokenize(s)\n",
    "    s_words = [lemmatizer.lemmatize(word.lower()) for word in s_words]\n",
    "    \n",
    "    for se in s_words:\n",
    "        for i, w in enumerate(words):\n",
    "            if w == se:\n",
    "                bag[i] = 1\n",
    "                \n",
    "    return np.array(bag)\n",
    "\n",
    "def predict_class(s, model):\n",
    "    bow = bag_of_words(s, words)\n",
    "    res = model.predict(np.array([bow]))[0]\n",
    "    ERROR_THRESHOLD = 0.25\n",
    "    results = [[i, r] for i, r in enumerate(res) if r > ERROR_THRESHOLD]\n",
    "    \n",
    "    # sort by strength of probability\n",
    "    results.sort(key=lambda x: x[1], reverse=True)\n",
    "    return_list = []\n",
    "    for r in results:\n",
    "        return_list.append({'intent': classes[r[0]], 'probability': str(r[1])})\n",
    "        \n",
    "    return return_list\n",
    "\n",
    "def get_response(intents_list, intents_json):\n",
    "    tag = intents_list[0]['intent']\n",
    "    list_of_intents = intents_json['intents']\n",
    "    \n",
    "    for i in list_of_intents:\n",
    "        if i['tag'] == tag:\n",
    "            result = random.choice(i['responses'])\n",
    "            break\n",
    "            \n",
    "    return result\n",
    "\n"
   ],
   "metadata": {
    "collapsed": false,
    "ExecuteTime": {
     "end_time": "2024-03-02T05:31:59.333872100Z",
     "start_time": "2024-03-02T05:31:59.319226900Z"
    }
   },
   "id": "2a6e18d4198f1304",
   "execution_count": 86
  },
  {
   "cell_type": "code",
   "outputs": [],
   "source": [
    "# chatbot response\n",
    "def chatbot_response(text):\n",
    "    ints = predict_class(text, model)\n",
    "    res = get_response(ints, intents)\n",
    "    return res\n",
    "\n"
   ],
   "metadata": {
    "collapsed": false,
    "ExecuteTime": {
     "end_time": "2024-03-02T05:31:59.383288200Z",
     "start_time": "2024-03-02T05:31:59.329962100Z"
    }
   },
   "id": "3971d4e293b9ddc3",
   "execution_count": 87
  },
  {
   "cell_type": "code",
   "outputs": [
    {
     "name": "stdout",
     "output_type": "stream",
     "text": [
      "1/1 [==============================] - 0s 58ms/step\n"
     ]
    }
   ],
   "source": [
    "# create GUI\n",
    "import tkinter\n",
    "from tkinter import *\n",
    "\n",
    "def send():\n",
    "    msg = EntryBox.get(\"1.0\", 'end-1c').strip()\n",
    "    EntryBox.delete(\"0.0\", END)\n",
    "    \n",
    "    if msg != '':\n",
    "        ChatLog.config(state=NORMAL)\n",
    "        ChatLog.insert(END, \"You: \" + msg + '\\n\\n')\n",
    "        ChatLog.config(foreground=\"#442265\", font=(\"Verdana\", 12))\n",
    "        \n",
    "        res = chatbot_response(msg)\n",
    "        ChatLog.insert(END, \"SolentBot: \" + res + '\\n\\n')\n",
    "        \n",
    "        ChatLog.config(state=DISABLED)\n",
    "        ChatLog.yview(END)\n",
    "        \n",
    "base = Tk()\n",
    "base.title(\"SolentBot\")\n",
    "base.geometry(\"400x500\")\n",
    "base.resizable(width=FALSE, height=FALSE)\n",
    "\n",
    "# create chat window\n",
    "\n",
    "ChatLog = Text(base, bd=0, bg=\"white\", height=\"8\", width=\"50\", font=\"Arial\",)\n",
    "\n",
    "ChatLog.config(state=DISABLED)\n",
    "\n",
    "# bind scrollbar to chat window\n",
    "scrollbar = Scrollbar(base, command=ChatLog.yview, cursor=\"heart\")\n",
    "\n",
    "ChatLog['yscrollcommand'] = scrollbar.set\n",
    "\n",
    "# create button to send message\n",
    "SendButton = Button(base, font=(\"Verdana\", 12, 'bold'), text=\"Send\", width=\"12\", height=5,\n",
    "                    bd=0, bg=\"#32de97\", activebackground=\"#3c9d9b\", fg='#ffffff',\n",
    "                    command=send)\n",
    "\n",
    "# create the box to enter message\n",
    "EntryBox = Text(base, bd=0, bg=\"white\", width=\"29\", height=\"5\", font=\"Arial\")\n",
    "\n",
    "# place all components on the screen\n",
    "scrollbar.place(x=376, y=6, height=386)\n",
    "\n",
    "ChatLog.place(x=6, y=6, height=386, width=370)\n",
    "\n",
    "EntryBox.place(x=128, y=401, height=90, width=265)\n",
    "\n",
    "SendButton.place(x=6, y=401, height=90)\n",
    "    \n",
    "    \n",
    "base.mainloop()\n",
    "\n"
   ],
   "metadata": {
    "collapsed": false,
    "ExecuteTime": {
     "end_time": "2024-03-02T05:32:27.603220300Z",
     "start_time": "2024-03-02T05:31:59.390133200Z"
    }
   },
   "id": "f0f8be86c9856eaa",
   "execution_count": 88
  },
  {
   "cell_type": "code",
   "outputs": [
    {
     "name": "stdout",
     "output_type": "stream",
     "text": [
      "1/1 [==============================] - 0s 27ms/step\n",
      "[{'intent': 'name', 'probability': '0.61584294'}]\n",
      "1/1 [==============================] - 0s 27ms/step\n",
      "[{'intent': 'enrollment_process', 'probability': '0.9998091'}]\n"
     ]
    }
   ],
   "source": [
    "# test the confidence score of the predictions and show the percentage of the confidence score  just by typing a tag\n",
    "print(predict_class('solent', model))\n",
    "print(predict_class('courses', model))\n"
   ],
   "metadata": {
    "collapsed": false,
    "ExecuteTime": {
     "end_time": "2024-03-02T05:32:27.764035Z",
     "start_time": "2024-03-02T05:32:27.581145800Z"
    }
   },
   "id": "e8228ee95480981e",
   "execution_count": 89
  },
  {
   "cell_type": "code",
   "outputs": [],
   "source": [],
   "metadata": {
    "collapsed": false,
    "ExecuteTime": {
     "end_time": "2024-03-02T05:32:27.774781400Z",
     "start_time": "2024-03-02T05:32:27.765007Z"
    }
   },
   "id": "ffb7a70288809d4f",
   "execution_count": 89
  }
 ],
 "metadata": {
  "kernelspec": {
   "display_name": "Python 3",
   "language": "python",
   "name": "python3"
  },
  "language_info": {
   "codemirror_mode": {
    "name": "ipython",
    "version": 2
   },
   "file_extension": ".py",
   "mimetype": "text/x-python",
   "name": "python",
   "nbconvert_exporter": "python",
   "pygments_lexer": "ipython2",
   "version": "2.7.6"
  }
 },
 "nbformat": 4,
 "nbformat_minor": 5
}
