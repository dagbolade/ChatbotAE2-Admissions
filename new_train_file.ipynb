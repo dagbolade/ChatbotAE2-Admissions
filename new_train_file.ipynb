{
 "cells": [
  {
   "cell_type": "markdown",
   "source": [
    "# TRAINING A CHATBOT INTENT CLASSIFIER\n"
   ],
   "metadata": {
    "collapsed": false
   },
   "id": "99094a427d54c713"
  },
  {
   "cell_type": "markdown",
   "source": [
    "## Importing the libraries"
   ],
   "metadata": {
    "collapsed": false
   },
   "id": "134da7d190ed59c7"
  },
  {
   "cell_type": "code",
   "execution_count": 126,
   "id": "initial_id",
   "metadata": {
    "collapsed": true,
    "ExecuteTime": {
     "end_time": "2024-03-02T05:44:12.521333700Z",
     "start_time": "2024-03-02T05:44:12.458103200Z"
    }
   },
   "outputs": [],
   "source": [
    "import nltk\n",
    "import numpy as np\n",
    "import random\n",
    "\n",
    "from nltk.stem import WordNetLemmatizer\n",
    "from nltk.tokenize import word_tokenize\n",
    "from nltk.corpus import stopwords"
   ]
  },
  {
   "cell_type": "markdown",
   "source": [],
   "metadata": {
    "collapsed": false
   },
   "id": "e57caff36d793732"
  },
  {
   "cell_type": "code",
   "execution_count": 127,
   "outputs": [
    {
     "name": "stderr",
     "output_type": "stream",
     "text": [
      "[nltk_data] Downloading package wordnet to\n",
      "[nltk_data]     C:\\Users\\dagbo_b40tnyc\\AppData\\Roaming\\nltk_data...\n",
      "[nltk_data]   Package wordnet is already up-to-date!\n",
      "[nltk_data] Downloading package stopwords to\n",
      "[nltk_data]     C:\\Users\\dagbo_b40tnyc\\AppData\\Roaming\\nltk_data...\n",
      "[nltk_data]   Package stopwords is already up-to-date!\n",
      "[nltk_data] Downloading package punkt to\n",
      "[nltk_data]     C:\\Users\\dagbo_b40tnyc\\AppData\\Roaming\\nltk_data...\n",
      "[nltk_data]   Package punkt is already up-to-date!\n"
     ]
    },
    {
     "data": {
      "text/plain": "True"
     },
     "execution_count": 127,
     "metadata": {},
     "output_type": "execute_result"
    }
   ],
   "source": [
    "# download the wordnet and stopwords corpus\n",
    "nltk.download('wordnet') # wordnet is a lexical database for the English language\n",
    "nltk.download('stopwords') # stopwords means words like 'the', 'a', 'an', 'is', 'are', etc.\n",
    "nltk.download('punkt') # punkt means punctuations"
   ],
   "metadata": {
    "collapsed": false,
    "ExecuteTime": {
     "end_time": "2024-03-02T05:44:12.536962Z",
     "start_time": "2024-03-02T05:44:12.515477Z"
    }
   },
   "id": "b7d8a74774003d99"
  },
  {
   "cell_type": "markdown",
   "source": [
    "## Importing the json file"
   ],
   "metadata": {
    "collapsed": false
   },
   "id": "6a97228fcbc64bf8"
  },
  {
   "cell_type": "code",
   "execution_count": 128,
   "outputs": [],
   "source": [
    "# import intents file\n",
    "import json\n",
    "\n",
    "def load_intents():\n",
    "    with open('intents.json') as file:\n",
    "        intents = json.load(file)\n",
    "    return intents\n",
    "\n",
    "intents = load_intents()"
   ],
   "metadata": {
    "collapsed": false,
    "ExecuteTime": {
     "end_time": "2024-03-02T05:44:12.551600800Z",
     "start_time": "2024-03-02T05:44:12.543791700Z"
    }
   },
   "id": "fd60388bcd7d0514"
  },
  {
   "cell_type": "markdown",
   "source": [
    "## Preprocessing the data"
   ],
   "metadata": {
    "collapsed": false
   },
   "id": "aa1e1a71f5a3e8f4"
  },
  {
   "cell_type": "code",
   "execution_count": 129,
   "outputs": [],
   "source": [
    "# initialize lemmatizer to get stem of words\n",
    "lemmatizer = WordNetLemmatizer() # lemma is the root form of the word and it is very accurate than stemming\n",
    "\n",
    "\n",
    "# loop through each sentence in the intent's patterns\n",
    "def preprocess_intents(intents):\n",
    "    # create empty lists for documents, classes and words\n",
    "    documents = [] # documents means patterns\n",
    "    classes = [] # classes means tags\n",
    "    words = [] # words means vocabulary\n",
    "    ignore_letters = ['!', '?', ',', '.'] # ignore these letters\n",
    "    stop_words = set(stopwords.words('english')) # stop words are words like 'the', 'a', 'an', 'is', 'are', etc.\n",
    "\n",
    "\n",
    "    for intent in intents['intents']:\n",
    "        \n",
    "        # debug for keyerror @ 'patterns'\n",
    "        # print(intent['patterns'])\n",
    "        for pattern in intent['patterns']:\n",
    "            # tokenize each and every word in the sentence\n",
    "            word = nltk.word_tokenize(pattern) \n",
    "            # lemmatize each word and convert into lowercase\n",
    "            word = [lemmatizer.lemmatize(w.lower()) for w in word if w not in stop_words and w not in ignore_letters]\n",
    "            # add word to the word list\n",
    "            words.extend(word) # extend means add to the list and append means add to the end of the list\n",
    "            # add word(s) to documents\n",
    "            documents.append((word, intent['tag'])) #\n",
    "            # add tags to our classes list\n",
    "            if intent['tag'] not in classes: # if tag is not in classes list\n",
    "                classes.append(intent['tag']) # then add it to the classes list\n",
    "                \n",
    "    # sort words and remove duplicates\n",
    "    words = sorted(list(set(words)))\n",
    "    # sort classes\n",
    "    classes = sorted(list(set(classes)))\n",
    "    return documents, classes, words\n",
    "\n",
    "documents, classes, words = preprocess_intents(intents)\n"
   ],
   "metadata": {
    "collapsed": false,
    "ExecuteTime": {
     "end_time": "2024-03-02T05:44:12.629306300Z",
     "start_time": "2024-03-02T05:44:12.554529Z"
    }
   },
   "id": "ec96ddaa4d2cd674"
  },
  {
   "cell_type": "markdown",
   "source": [
    "## save the preprocessed data"
   ],
   "metadata": {
    "collapsed": false
   },
   "id": "1361248a261d307b"
  },
  {
   "cell_type": "code",
   "execution_count": 130,
   "outputs": [],
   "source": [
    "import pickle\n",
    "\n",
    "#save to file using pickle to dump\n",
    "pickle.dump(words, open ('words.pkl', 'wb'))#wb means writing into binariries\n",
    "pickle.dump(classes, open ('classes.pkl', 'wb'))\n"
   ],
   "metadata": {
    "collapsed": false,
    "ExecuteTime": {
     "end_time": "2024-03-02T05:44:12.630286400Z",
     "start_time": "2024-03-02T05:44:12.588297900Z"
    }
   },
   "id": "3c99826bd5b37a6"
  },
  {
   "cell_type": "markdown",
   "source": [
    "## Create training and testing data"
   ],
   "metadata": {
    "collapsed": false
   },
   "id": "7df4fb694b944680"
  },
  {
   "cell_type": "code",
   "execution_count": 131,
   "outputs": [],
   "source": [
    "\n",
    "#represents the words as numerical values using bag_of_words\n",
    "train = []\n",
    "empty_output = [0] * len(classes)\n",
    "\n",
    "for doc in documents:\n",
    "    #create an empty list of bag of words\n",
    "    bag = []\n",
    "    word_patterns = doc[0]\n",
    "    word_patterns = [lemmatizer.lemmatize(word.lower()) for word in word_patterns]\n",
    "    for word in words:\n",
    "        bag.append(1) if word in word_patterns  else bag.append(0)\n",
    "    \n",
    "    output = list(empty_output)\n",
    "    output[classes.index(doc[1])] = 1\n",
    "    # Ensure the 'bag' has the same length as 'words'\n",
    "    assert len(bag) == len(words), f\"Bag length: {len(bag)}, expected: {len(words)}\"\n",
    "    \n",
    "    # Ensure the 'output' has the same length as 'classes'\n",
    "    assert len(output) == len(classes), f\"Output length: {len(output)}, expected: {len(classes)}\"\n",
    "    train.append([bag, output])"
   ],
   "metadata": {
    "collapsed": false,
    "ExecuteTime": {
     "end_time": "2024-03-02T05:44:12.664468200Z",
     "start_time": "2024-03-02T05:44:12.601963200Z"
    }
   },
   "id": "7452a7b953f89515"
  },
  {
   "cell_type": "code",
   "execution_count": 132,
   "outputs": [],
   "source": [
    "# shuffle the features and make numpy array\n",
    "random.shuffle(train)\n",
    "# Before converting to a NumPy array, ensure all elements in 'train' have the same length\n",
    "#assert all(len(item) == len(train[0]) for item in train), \"Not all lists in 'train' have the same length.\"\n",
    "train = np.array(train, dtype=object)\n",
    "\n",
    "# create train and test lists. X - patterns, Y - intents\n",
    "train_x = list(train[:,0])\n",
    "train_y = list(train[:,1])\n",
    "\n"
   ],
   "metadata": {
    "collapsed": false,
    "ExecuteTime": {
     "end_time": "2024-03-02T05:44:12.665448300Z",
     "start_time": "2024-03-02T05:44:12.649808800Z"
    }
   },
   "id": "61519d1a972130b0"
  },
  {
   "cell_type": "markdown",
   "source": [
    "## Building the model using long short term memory (LSTM)"
   ],
   "metadata": {
    "collapsed": false
   },
   "id": "9466fc7cc7a044fa"
  },
  {
   "cell_type": "code",
   "execution_count": 133,
   "outputs": [],
   "source": [
    "# import tensorflow libraries\n",
    "import tensorflow as tf\n",
    "from tensorflow.keras.models import Sequential\n",
    "from tensorflow.keras.layers import Dense, Activation, Dropout\n",
    "from tensorflow.keras.optimizers import SGD\n",
    "from tensorflow.keras.optimizers.schedules import ExponentialDecay # learning rate decay over each update\n",
    "\n",
    "# Create a learning rate schedule\n",
    "lr_schedule = ExponentialDecay(\n",
    "    initial_learning_rate=0.01,\n",
    "    decay_steps=100000,\n",
    "    decay_rate=0.96,\n",
    "    staircase=True)\n",
    "\n",
    "# Build the model\n",
    "model = Sequential()\n",
    "model.add(Dense(128, input_shape=(len(train_x[0]),), activation='relu')) # input layer\n",
    "model.add(Dropout(0.5))\n",
    "model.add(Dense(64, activation='relu')) # hidden layer\n",
    "model.add(Dropout(0.5))\n",
    "model.add(Dense(len(train_y[0]), activation='softmax')) # output layer\n",
    "\n",
    "# Compile the model\n",
    "sgd = SGD(learning_rate=lr_schedule, momentum=0.9, nesterov=True) # stochastic gradient descent\n",
    "model.compile(loss='categorical_crossentropy', optimizer=sgd, metrics=['accuracy'])\n",
    "\n"
   ],
   "metadata": {
    "collapsed": false,
    "ExecuteTime": {
     "end_time": "2024-03-02T05:44:12.765619800Z",
     "start_time": "2024-03-02T05:44:12.663479900Z"
    }
   },
   "id": "f12e6e3ee3b2b1ee"
  },
  {
   "cell_type": "markdown",
   "source": [
    "## Training and saving the model"
   ],
   "metadata": {
    "collapsed": false
   },
   "id": "f38cafa22d677c7a"
  },
  {
   "cell_type": "code",
   "execution_count": 134,
   "outputs": [
    {
     "name": "stdout",
     "output_type": "stream",
     "text": [
      "Epoch 1/200\n",
      "56/56 [==============================] - 1s 2ms/step - loss: 4.3755 - accuracy: 0.0071\n",
      "Epoch 2/200\n",
      "56/56 [==============================] - 0s 2ms/step - loss: 4.3626 - accuracy: 0.0286\n",
      "Epoch 3/200\n",
      "56/56 [==============================] - 0s 2ms/step - loss: 4.3169 - accuracy: 0.0321\n",
      "Epoch 4/200\n",
      "56/56 [==============================] - 0s 2ms/step - loss: 4.2902 - accuracy: 0.0357\n",
      "Epoch 5/200\n",
      "56/56 [==============================] - 0s 2ms/step - loss: 4.2583 - accuracy: 0.0429\n",
      "Epoch 6/200\n",
      "56/56 [==============================] - 0s 2ms/step - loss: 4.2227 - accuracy: 0.0607\n",
      "Epoch 7/200\n",
      "56/56 [==============================] - 0s 2ms/step - loss: 4.1879 - accuracy: 0.0714\n",
      "Epoch 8/200\n",
      "56/56 [==============================] - 0s 2ms/step - loss: 4.0789 - accuracy: 0.0643\n",
      "Epoch 9/200\n",
      "56/56 [==============================] - 0s 2ms/step - loss: 4.0124 - accuracy: 0.0964\n",
      "Epoch 10/200\n",
      "56/56 [==============================] - 0s 2ms/step - loss: 3.9083 - accuracy: 0.0964\n",
      "Epoch 11/200\n",
      "56/56 [==============================] - 0s 2ms/step - loss: 3.8237 - accuracy: 0.0929\n",
      "Epoch 12/200\n",
      "56/56 [==============================] - 0s 2ms/step - loss: 3.6730 - accuracy: 0.1000\n",
      "Epoch 13/200\n",
      "56/56 [==============================] - 0s 2ms/step - loss: 3.5812 - accuracy: 0.1464\n",
      "Epoch 14/200\n",
      "56/56 [==============================] - 0s 2ms/step - loss: 3.4555 - accuracy: 0.1821\n",
      "Epoch 15/200\n",
      "56/56 [==============================] - 0s 2ms/step - loss: 3.3084 - accuracy: 0.2107\n",
      "Epoch 16/200\n",
      "56/56 [==============================] - 0s 2ms/step - loss: 3.1774 - accuracy: 0.2286\n",
      "Epoch 17/200\n",
      "56/56 [==============================] - 0s 2ms/step - loss: 3.0687 - accuracy: 0.2321\n",
      "Epoch 18/200\n",
      "56/56 [==============================] - 0s 2ms/step - loss: 2.9594 - accuracy: 0.2500\n",
      "Epoch 19/200\n",
      "56/56 [==============================] - 0s 2ms/step - loss: 2.8464 - accuracy: 0.2643\n",
      "Epoch 20/200\n",
      "56/56 [==============================] - 0s 2ms/step - loss: 2.6843 - accuracy: 0.2786\n",
      "Epoch 21/200\n",
      "56/56 [==============================] - 0s 2ms/step - loss: 2.4960 - accuracy: 0.3214\n",
      "Epoch 22/200\n",
      "56/56 [==============================] - 0s 3ms/step - loss: 2.5466 - accuracy: 0.3071\n",
      "Epoch 23/200\n",
      "56/56 [==============================] - 0s 2ms/step - loss: 2.4692 - accuracy: 0.3357\n",
      "Epoch 24/200\n",
      "56/56 [==============================] - 0s 2ms/step - loss: 2.1985 - accuracy: 0.3964\n",
      "Epoch 25/200\n",
      "56/56 [==============================] - 0s 3ms/step - loss: 2.3199 - accuracy: 0.3571\n",
      "Epoch 26/200\n",
      "56/56 [==============================] - 0s 2ms/step - loss: 2.1503 - accuracy: 0.4071\n",
      "Epoch 27/200\n",
      "56/56 [==============================] - 0s 2ms/step - loss: 2.0915 - accuracy: 0.4357\n",
      "Epoch 28/200\n",
      "56/56 [==============================] - 0s 2ms/step - loss: 2.1565 - accuracy: 0.3929\n",
      "Epoch 29/200\n",
      "56/56 [==============================] - 0s 2ms/step - loss: 2.0632 - accuracy: 0.4143\n",
      "Epoch 30/200\n",
      "56/56 [==============================] - 0s 2ms/step - loss: 2.0316 - accuracy: 0.4179\n",
      "Epoch 31/200\n",
      "56/56 [==============================] - 0s 2ms/step - loss: 1.8091 - accuracy: 0.5143\n",
      "Epoch 32/200\n",
      "56/56 [==============================] - 0s 2ms/step - loss: 1.7195 - accuracy: 0.5357\n",
      "Epoch 33/200\n",
      "56/56 [==============================] - 0s 2ms/step - loss: 1.7444 - accuracy: 0.4857\n",
      "Epoch 34/200\n",
      "56/56 [==============================] - 0s 2ms/step - loss: 1.6270 - accuracy: 0.4893\n",
      "Epoch 35/200\n",
      "56/56 [==============================] - 0s 2ms/step - loss: 1.6079 - accuracy: 0.5321\n",
      "Epoch 36/200\n",
      "56/56 [==============================] - 0s 2ms/step - loss: 1.4937 - accuracy: 0.5464\n",
      "Epoch 37/200\n",
      "56/56 [==============================] - 0s 2ms/step - loss: 1.5820 - accuracy: 0.5321\n",
      "Epoch 38/200\n",
      "56/56 [==============================] - 0s 2ms/step - loss: 1.4950 - accuracy: 0.5571\n",
      "Epoch 39/200\n",
      "56/56 [==============================] - 0s 2ms/step - loss: 1.4245 - accuracy: 0.5536\n",
      "Epoch 40/200\n",
      "56/56 [==============================] - 0s 2ms/step - loss: 1.4563 - accuracy: 0.5679\n",
      "Epoch 41/200\n",
      "56/56 [==============================] - 0s 2ms/step - loss: 1.4054 - accuracy: 0.5821\n",
      "Epoch 42/200\n",
      "56/56 [==============================] - 0s 2ms/step - loss: 1.3104 - accuracy: 0.5857\n",
      "Epoch 43/200\n",
      "56/56 [==============================] - 0s 2ms/step - loss: 1.3545 - accuracy: 0.5821\n",
      "Epoch 44/200\n",
      "56/56 [==============================] - 0s 2ms/step - loss: 1.3638 - accuracy: 0.5750\n",
      "Epoch 45/200\n",
      "56/56 [==============================] - 0s 2ms/step - loss: 1.3017 - accuracy: 0.6071\n",
      "Epoch 46/200\n",
      "56/56 [==============================] - 0s 3ms/step - loss: 1.3357 - accuracy: 0.5500\n",
      "Epoch 47/200\n",
      "56/56 [==============================] - 0s 2ms/step - loss: 1.2023 - accuracy: 0.5964\n",
      "Epoch 48/200\n",
      "56/56 [==============================] - 0s 2ms/step - loss: 1.1710 - accuracy: 0.6071\n",
      "Epoch 49/200\n",
      "56/56 [==============================] - 0s 2ms/step - loss: 1.1599 - accuracy: 0.6357\n",
      "Epoch 50/200\n",
      "56/56 [==============================] - 0s 2ms/step - loss: 1.0634 - accuracy: 0.6250\n",
      "Epoch 51/200\n",
      "56/56 [==============================] - 0s 2ms/step - loss: 1.1303 - accuracy: 0.6393\n",
      "Epoch 52/200\n",
      "56/56 [==============================] - 0s 2ms/step - loss: 1.0986 - accuracy: 0.6571\n",
      "Epoch 53/200\n",
      "56/56 [==============================] - 0s 2ms/step - loss: 1.0674 - accuracy: 0.6679\n",
      "Epoch 54/200\n",
      "56/56 [==============================] - 0s 2ms/step - loss: 1.1541 - accuracy: 0.6250\n",
      "Epoch 55/200\n",
      "56/56 [==============================] - 0s 2ms/step - loss: 1.0579 - accuracy: 0.6464\n",
      "Epoch 56/200\n",
      "56/56 [==============================] - 0s 2ms/step - loss: 0.9927 - accuracy: 0.6536\n",
      "Epoch 57/200\n",
      "56/56 [==============================] - 0s 2ms/step - loss: 1.0606 - accuracy: 0.6286\n",
      "Epoch 58/200\n",
      "56/56 [==============================] - 0s 2ms/step - loss: 0.9226 - accuracy: 0.7286\n",
      "Epoch 59/200\n",
      "56/56 [==============================] - 0s 2ms/step - loss: 1.0836 - accuracy: 0.6643\n",
      "Epoch 60/200\n",
      "56/56 [==============================] - 0s 2ms/step - loss: 1.1051 - accuracy: 0.6357\n",
      "Epoch 61/200\n",
      "56/56 [==============================] - 0s 2ms/step - loss: 1.0042 - accuracy: 0.7071\n",
      "Epoch 62/200\n",
      "56/56 [==============================] - 0s 2ms/step - loss: 0.9691 - accuracy: 0.6714\n",
      "Epoch 63/200\n",
      "56/56 [==============================] - 0s 2ms/step - loss: 0.9603 - accuracy: 0.7000\n",
      "Epoch 64/200\n",
      "56/56 [==============================] - 0s 2ms/step - loss: 0.9717 - accuracy: 0.6750\n",
      "Epoch 65/200\n",
      "56/56 [==============================] - 0s 2ms/step - loss: 0.9188 - accuracy: 0.7143\n",
      "Epoch 66/200\n",
      "56/56 [==============================] - 0s 2ms/step - loss: 0.9521 - accuracy: 0.6679\n",
      "Epoch 67/200\n",
      "56/56 [==============================] - 0s 2ms/step - loss: 0.8982 - accuracy: 0.6857\n",
      "Epoch 68/200\n",
      "56/56 [==============================] - 0s 2ms/step - loss: 0.8192 - accuracy: 0.7357\n",
      "Epoch 69/200\n",
      "56/56 [==============================] - 0s 2ms/step - loss: 0.9979 - accuracy: 0.6500\n",
      "Epoch 70/200\n",
      "56/56 [==============================] - 0s 2ms/step - loss: 0.9921 - accuracy: 0.6393\n",
      "Epoch 71/200\n",
      "56/56 [==============================] - 0s 2ms/step - loss: 0.8630 - accuracy: 0.7250\n",
      "Epoch 72/200\n",
      "56/56 [==============================] - 0s 2ms/step - loss: 0.9083 - accuracy: 0.7107\n",
      "Epoch 73/200\n",
      "56/56 [==============================] - 0s 2ms/step - loss: 0.7980 - accuracy: 0.7107\n",
      "Epoch 74/200\n",
      "56/56 [==============================] - 0s 2ms/step - loss: 0.8659 - accuracy: 0.7214\n",
      "Epoch 75/200\n",
      "56/56 [==============================] - 0s 2ms/step - loss: 0.8361 - accuracy: 0.7393\n",
      "Epoch 76/200\n",
      "56/56 [==============================] - 0s 2ms/step - loss: 0.9506 - accuracy: 0.7143\n",
      "Epoch 77/200\n",
      "56/56 [==============================] - 0s 2ms/step - loss: 0.8208 - accuracy: 0.7321\n",
      "Epoch 78/200\n",
      "56/56 [==============================] - 0s 2ms/step - loss: 0.8496 - accuracy: 0.7214\n",
      "Epoch 79/200\n",
      "56/56 [==============================] - 0s 2ms/step - loss: 0.7567 - accuracy: 0.7321\n",
      "Epoch 80/200\n",
      "56/56 [==============================] - 0s 2ms/step - loss: 0.7708 - accuracy: 0.7500\n",
      "Epoch 81/200\n",
      "56/56 [==============================] - 0s 2ms/step - loss: 0.9088 - accuracy: 0.7000\n",
      "Epoch 82/200\n",
      "56/56 [==============================] - 0s 2ms/step - loss: 0.7057 - accuracy: 0.7536\n",
      "Epoch 83/200\n",
      "56/56 [==============================] - 0s 2ms/step - loss: 0.7714 - accuracy: 0.7321\n",
      "Epoch 84/200\n",
      "56/56 [==============================] - 0s 2ms/step - loss: 0.7997 - accuracy: 0.7464\n",
      "Epoch 85/200\n",
      "56/56 [==============================] - 0s 2ms/step - loss: 0.7802 - accuracy: 0.7464\n",
      "Epoch 86/200\n",
      "56/56 [==============================] - 0s 2ms/step - loss: 0.8904 - accuracy: 0.7036\n",
      "Epoch 87/200\n",
      "56/56 [==============================] - 0s 2ms/step - loss: 0.8302 - accuracy: 0.7357\n",
      "Epoch 88/200\n",
      "56/56 [==============================] - 0s 2ms/step - loss: 0.8784 - accuracy: 0.7393\n",
      "Epoch 89/200\n",
      "56/56 [==============================] - 0s 2ms/step - loss: 0.8279 - accuracy: 0.7107\n",
      "Epoch 90/200\n",
      "56/56 [==============================] - 0s 2ms/step - loss: 0.8004 - accuracy: 0.7429\n",
      "Epoch 91/200\n",
      "56/56 [==============================] - 0s 2ms/step - loss: 0.7061 - accuracy: 0.7714\n",
      "Epoch 92/200\n",
      "56/56 [==============================] - 0s 2ms/step - loss: 0.7964 - accuracy: 0.7357\n",
      "Epoch 93/200\n",
      "56/56 [==============================] - 0s 3ms/step - loss: 0.7433 - accuracy: 0.7214\n",
      "Epoch 94/200\n",
      "56/56 [==============================] - 0s 2ms/step - loss: 0.8115 - accuracy: 0.7321\n",
      "Epoch 95/200\n",
      "56/56 [==============================] - 0s 3ms/step - loss: 0.7036 - accuracy: 0.7500\n",
      "Epoch 96/200\n",
      "56/56 [==============================] - 0s 3ms/step - loss: 0.8423 - accuracy: 0.7036\n",
      "Epoch 97/200\n",
      "56/56 [==============================] - 0s 3ms/step - loss: 0.7603 - accuracy: 0.7571\n",
      "Epoch 98/200\n",
      "56/56 [==============================] - 0s 3ms/step - loss: 0.7562 - accuracy: 0.7536\n",
      "Epoch 99/200\n",
      "56/56 [==============================] - 0s 3ms/step - loss: 0.7845 - accuracy: 0.7429\n",
      "Epoch 100/200\n",
      "56/56 [==============================] - 0s 3ms/step - loss: 0.7935 - accuracy: 0.7500\n",
      "Epoch 101/200\n",
      "56/56 [==============================] - 0s 2ms/step - loss: 0.7515 - accuracy: 0.7321\n",
      "Epoch 102/200\n",
      "56/56 [==============================] - 0s 3ms/step - loss: 0.7918 - accuracy: 0.7107\n",
      "Epoch 103/200\n",
      "56/56 [==============================] - 0s 3ms/step - loss: 0.7361 - accuracy: 0.7321\n",
      "Epoch 104/200\n",
      "56/56 [==============================] - 0s 2ms/step - loss: 0.7596 - accuracy: 0.7000\n",
      "Epoch 105/200\n",
      "56/56 [==============================] - 0s 3ms/step - loss: 0.7413 - accuracy: 0.7286\n",
      "Epoch 106/200\n",
      "56/56 [==============================] - 0s 3ms/step - loss: 0.8398 - accuracy: 0.7286\n",
      "Epoch 107/200\n",
      "56/56 [==============================] - 0s 3ms/step - loss: 0.6760 - accuracy: 0.7607\n",
      "Epoch 108/200\n",
      "56/56 [==============================] - 0s 2ms/step - loss: 0.6065 - accuracy: 0.8036\n",
      "Epoch 109/200\n",
      "56/56 [==============================] - 0s 2ms/step - loss: 0.6809 - accuracy: 0.7679\n",
      "Epoch 110/200\n",
      "56/56 [==============================] - 0s 2ms/step - loss: 0.7333 - accuracy: 0.7500\n",
      "Epoch 111/200\n",
      "56/56 [==============================] - 0s 2ms/step - loss: 0.6872 - accuracy: 0.7250\n",
      "Epoch 112/200\n",
      "56/56 [==============================] - 0s 2ms/step - loss: 0.5866 - accuracy: 0.7893\n",
      "Epoch 113/200\n",
      "56/56 [==============================] - 0s 2ms/step - loss: 0.7081 - accuracy: 0.7536\n",
      "Epoch 114/200\n",
      "56/56 [==============================] - 0s 2ms/step - loss: 0.6284 - accuracy: 0.7821\n",
      "Epoch 115/200\n",
      "56/56 [==============================] - 0s 3ms/step - loss: 0.7444 - accuracy: 0.7571\n",
      "Epoch 116/200\n",
      "56/56 [==============================] - 0s 2ms/step - loss: 0.7206 - accuracy: 0.7321\n",
      "Epoch 117/200\n",
      "56/56 [==============================] - 0s 3ms/step - loss: 0.7065 - accuracy: 0.7464\n",
      "Epoch 118/200\n",
      "56/56 [==============================] - 0s 2ms/step - loss: 0.6822 - accuracy: 0.7607\n",
      "Epoch 119/200\n",
      "56/56 [==============================] - 0s 2ms/step - loss: 0.6355 - accuracy: 0.7750\n",
      "Epoch 120/200\n",
      "56/56 [==============================] - 0s 2ms/step - loss: 0.6623 - accuracy: 0.7786\n",
      "Epoch 121/200\n",
      "56/56 [==============================] - 0s 2ms/step - loss: 0.6809 - accuracy: 0.7643\n",
      "Epoch 122/200\n",
      "56/56 [==============================] - 0s 2ms/step - loss: 0.7117 - accuracy: 0.7214\n",
      "Epoch 123/200\n",
      "56/56 [==============================] - 0s 2ms/step - loss: 0.6476 - accuracy: 0.7929\n",
      "Epoch 124/200\n",
      "56/56 [==============================] - 0s 2ms/step - loss: 0.7324 - accuracy: 0.7250\n",
      "Epoch 125/200\n",
      "56/56 [==============================] - 0s 2ms/step - loss: 0.6866 - accuracy: 0.7500\n",
      "Epoch 126/200\n",
      "56/56 [==============================] - 0s 2ms/step - loss: 0.6732 - accuracy: 0.7500\n",
      "Epoch 127/200\n",
      "56/56 [==============================] - 0s 2ms/step - loss: 0.6465 - accuracy: 0.7893\n",
      "Epoch 128/200\n",
      "56/56 [==============================] - 0s 2ms/step - loss: 0.6432 - accuracy: 0.7643\n",
      "Epoch 129/200\n",
      "56/56 [==============================] - 0s 2ms/step - loss: 0.7000 - accuracy: 0.7500\n",
      "Epoch 130/200\n",
      "56/56 [==============================] - 0s 2ms/step - loss: 0.6397 - accuracy: 0.7750\n",
      "Epoch 131/200\n",
      "56/56 [==============================] - 0s 2ms/step - loss: 0.6729 - accuracy: 0.7786\n",
      "Epoch 132/200\n",
      "56/56 [==============================] - 0s 2ms/step - loss: 0.6313 - accuracy: 0.7857\n",
      "Epoch 133/200\n",
      "56/56 [==============================] - 0s 2ms/step - loss: 0.6205 - accuracy: 0.7750\n",
      "Epoch 134/200\n",
      "56/56 [==============================] - 0s 2ms/step - loss: 0.5623 - accuracy: 0.7821\n",
      "Epoch 135/200\n",
      "56/56 [==============================] - 0s 2ms/step - loss: 0.6359 - accuracy: 0.7857\n",
      "Epoch 136/200\n",
      "56/56 [==============================] - 0s 2ms/step - loss: 0.5141 - accuracy: 0.8107\n",
      "Epoch 137/200\n",
      "56/56 [==============================] - 0s 2ms/step - loss: 0.6114 - accuracy: 0.7821\n",
      "Epoch 138/200\n",
      "56/56 [==============================] - 0s 2ms/step - loss: 0.7060 - accuracy: 0.7393\n",
      "Epoch 139/200\n",
      "56/56 [==============================] - 0s 2ms/step - loss: 0.5945 - accuracy: 0.8000\n",
      "Epoch 140/200\n",
      "56/56 [==============================] - 0s 2ms/step - loss: 0.5803 - accuracy: 0.7750\n",
      "Epoch 141/200\n",
      "56/56 [==============================] - 0s 2ms/step - loss: 0.5853 - accuracy: 0.8036\n",
      "Epoch 142/200\n",
      "56/56 [==============================] - 0s 2ms/step - loss: 0.6562 - accuracy: 0.7821\n",
      "Epoch 143/200\n",
      "56/56 [==============================] - 0s 2ms/step - loss: 0.6114 - accuracy: 0.8071\n",
      "Epoch 144/200\n",
      "56/56 [==============================] - 0s 2ms/step - loss: 0.6205 - accuracy: 0.7464\n",
      "Epoch 145/200\n",
      "56/56 [==============================] - 0s 2ms/step - loss: 0.5997 - accuracy: 0.7857\n",
      "Epoch 146/200\n",
      "56/56 [==============================] - 0s 2ms/step - loss: 0.5547 - accuracy: 0.8107\n",
      "Epoch 147/200\n",
      "56/56 [==============================] - 0s 2ms/step - loss: 0.5735 - accuracy: 0.7786\n",
      "Epoch 148/200\n",
      "56/56 [==============================] - 0s 2ms/step - loss: 0.5731 - accuracy: 0.8071\n",
      "Epoch 149/200\n",
      "56/56 [==============================] - 0s 2ms/step - loss: 0.5789 - accuracy: 0.7750\n",
      "Epoch 150/200\n",
      "56/56 [==============================] - 0s 2ms/step - loss: 0.5261 - accuracy: 0.7929\n",
      "Epoch 151/200\n",
      "56/56 [==============================] - 0s 2ms/step - loss: 0.6012 - accuracy: 0.7893\n",
      "Epoch 152/200\n",
      "56/56 [==============================] - 0s 2ms/step - loss: 0.6565 - accuracy: 0.7750\n",
      "Epoch 153/200\n",
      "56/56 [==============================] - 0s 2ms/step - loss: 0.6115 - accuracy: 0.7821\n",
      "Epoch 154/200\n",
      "56/56 [==============================] - 0s 2ms/step - loss: 0.5773 - accuracy: 0.7714\n",
      "Epoch 155/200\n",
      "56/56 [==============================] - 0s 2ms/step - loss: 0.6024 - accuracy: 0.7786\n",
      "Epoch 156/200\n",
      "56/56 [==============================] - 0s 2ms/step - loss: 0.5946 - accuracy: 0.7786\n",
      "Epoch 157/200\n",
      "56/56 [==============================] - 0s 2ms/step - loss: 0.5746 - accuracy: 0.7929\n",
      "Epoch 158/200\n",
      "56/56 [==============================] - 0s 2ms/step - loss: 0.5987 - accuracy: 0.7786\n",
      "Epoch 159/200\n",
      "56/56 [==============================] - 0s 2ms/step - loss: 0.6635 - accuracy: 0.7893\n",
      "Epoch 160/200\n",
      "56/56 [==============================] - 0s 2ms/step - loss: 0.5652 - accuracy: 0.7857\n",
      "Epoch 161/200\n",
      "56/56 [==============================] - 0s 2ms/step - loss: 0.6173 - accuracy: 0.7929\n",
      "Epoch 162/200\n",
      "56/56 [==============================] - 0s 3ms/step - loss: 0.5347 - accuracy: 0.7893\n",
      "Epoch 163/200\n",
      "56/56 [==============================] - 0s 2ms/step - loss: 0.5576 - accuracy: 0.8071\n",
      "Epoch 164/200\n",
      "56/56 [==============================] - 0s 2ms/step - loss: 0.4938 - accuracy: 0.8071\n",
      "Epoch 165/200\n",
      "56/56 [==============================] - 0s 2ms/step - loss: 0.5863 - accuracy: 0.7571\n",
      "Epoch 166/200\n",
      "56/56 [==============================] - 0s 2ms/step - loss: 0.5236 - accuracy: 0.8000\n",
      "Epoch 167/200\n",
      "56/56 [==============================] - 0s 2ms/step - loss: 0.5358 - accuracy: 0.7857\n",
      "Epoch 168/200\n",
      "56/56 [==============================] - 0s 2ms/step - loss: 0.6168 - accuracy: 0.7893\n",
      "Epoch 169/200\n",
      "56/56 [==============================] - 0s 2ms/step - loss: 0.5360 - accuracy: 0.8036\n",
      "Epoch 170/200\n",
      "56/56 [==============================] - 0s 2ms/step - loss: 0.5108 - accuracy: 0.8107\n",
      "Epoch 171/200\n",
      "56/56 [==============================] - 0s 2ms/step - loss: 0.6094 - accuracy: 0.7607\n",
      "Epoch 172/200\n",
      "56/56 [==============================] - 0s 2ms/step - loss: 0.5857 - accuracy: 0.7357\n",
      "Epoch 173/200\n",
      "56/56 [==============================] - 0s 2ms/step - loss: 0.5277 - accuracy: 0.8071\n",
      "Epoch 174/200\n",
      "56/56 [==============================] - 0s 2ms/step - loss: 0.6048 - accuracy: 0.7857\n",
      "Epoch 175/200\n",
      "56/56 [==============================] - 0s 2ms/step - loss: 0.6418 - accuracy: 0.7964\n",
      "Epoch 176/200\n",
      "56/56 [==============================] - 0s 2ms/step - loss: 0.5176 - accuracy: 0.8107\n",
      "Epoch 177/200\n",
      "56/56 [==============================] - 0s 2ms/step - loss: 0.5554 - accuracy: 0.8143\n",
      "Epoch 178/200\n",
      "56/56 [==============================] - 0s 2ms/step - loss: 0.5128 - accuracy: 0.7964\n",
      "Epoch 179/200\n",
      "56/56 [==============================] - 0s 2ms/step - loss: 0.5510 - accuracy: 0.7821\n",
      "Epoch 180/200\n",
      "56/56 [==============================] - 0s 2ms/step - loss: 0.4454 - accuracy: 0.8464\n",
      "Epoch 181/200\n",
      "56/56 [==============================] - 0s 2ms/step - loss: 0.5383 - accuracy: 0.8107\n",
      "Epoch 182/200\n",
      "56/56 [==============================] - 0s 2ms/step - loss: 0.5145 - accuracy: 0.8179\n",
      "Epoch 183/200\n",
      "56/56 [==============================] - 0s 2ms/step - loss: 0.5497 - accuracy: 0.8179\n",
      "Epoch 184/200\n",
      "56/56 [==============================] - 0s 2ms/step - loss: 0.5127 - accuracy: 0.8071\n",
      "Epoch 185/200\n",
      "56/56 [==============================] - 0s 2ms/step - loss: 0.5017 - accuracy: 0.8107\n",
      "Epoch 186/200\n",
      "56/56 [==============================] - 0s 2ms/step - loss: 0.5350 - accuracy: 0.8000\n",
      "Epoch 187/200\n",
      "56/56 [==============================] - 0s 2ms/step - loss: 0.5291 - accuracy: 0.7821\n",
      "Epoch 188/200\n",
      "56/56 [==============================] - 0s 2ms/step - loss: 0.5205 - accuracy: 0.8000\n",
      "Epoch 189/200\n",
      "56/56 [==============================] - 0s 2ms/step - loss: 0.5355 - accuracy: 0.7964\n",
      "Epoch 190/200\n",
      "56/56 [==============================] - 0s 2ms/step - loss: 0.5295 - accuracy: 0.8000\n",
      "Epoch 191/200\n",
      "56/56 [==============================] - 0s 2ms/step - loss: 0.5257 - accuracy: 0.8071\n",
      "Epoch 192/200\n",
      "56/56 [==============================] - 0s 2ms/step - loss: 0.6022 - accuracy: 0.7750\n",
      "Epoch 193/200\n",
      "56/56 [==============================] - 0s 2ms/step - loss: 0.5905 - accuracy: 0.7964\n",
      "Epoch 194/200\n",
      "56/56 [==============================] - 0s 2ms/step - loss: 0.6244 - accuracy: 0.7607\n",
      "Epoch 195/200\n",
      "56/56 [==============================] - 0s 2ms/step - loss: 0.4825 - accuracy: 0.7714\n",
      "Epoch 196/200\n",
      "56/56 [==============================] - 0s 2ms/step - loss: 0.6805 - accuracy: 0.7500\n",
      "Epoch 197/200\n",
      "56/56 [==============================] - 0s 2ms/step - loss: 0.5372 - accuracy: 0.8143\n",
      "Epoch 198/200\n",
      "56/56 [==============================] - 0s 2ms/step - loss: 0.5259 - accuracy: 0.8107\n",
      "Epoch 199/200\n",
      "56/56 [==============================] - 0s 2ms/step - loss: 0.5888 - accuracy: 0.7750\n",
      "Epoch 200/200\n",
      "56/56 [==============================] - 0s 2ms/step - loss: 0.5475 - accuracy: 0.8000\n",
      "9/9 [==============================] - 0s 2ms/step - loss: 0.1595 - accuracy: 0.9107\n",
      "Loss: 0.15952850878238678, accuracy: 0.9107142686843872\n"
     ]
    }
   ],
   "source": [
    "# Training and saving the model\n",
    "solentBot = model.fit(np.array(train_x), np.array(train_y), epochs=200, batch_size=5, verbose=1)\n",
    "loss, accuracy = model.evaluate(np.array(train_x), np.array(train_y))\n",
    "print(f\"Loss: {loss}, accuracy: {accuracy}\")\n",
    "#model.save('solentBot_model.h5', solentBot)"
   ],
   "metadata": {
    "collapsed": false,
    "ExecuteTime": {
     "end_time": "2024-03-02T05:44:38.950334Z",
     "start_time": "2024-03-02T05:44:12.773436600Z"
    }
   },
   "id": "bb88c814a747a8c8"
  },
  {
   "cell_type": "code",
   "execution_count": 135,
   "outputs": [
    {
     "name": "stdout",
     "output_type": "stream",
     "text": [
      "model created, saved and trained\n"
     ]
    }
   ],
   "source": [
    "# save the model to disk\n",
    "model.save('solentBot_model.h5', solentBot)\n",
    "print(\"model created, saved and trained\")"
   ],
   "metadata": {
    "collapsed": false,
    "ExecuteTime": {
     "end_time": "2024-03-02T05:44:38.976672900Z",
     "start_time": "2024-03-02T05:44:38.948382800Z"
    }
   },
   "id": "b651e51c6321de7e"
  },
  {
   "cell_type": "code",
   "outputs": [],
   "source": [
    "# evaluate the model to check for confidence score of the predictions\n",
    "def bag_of_words(s, words):\n",
    "    bag = [0 for _ in range(len(words))]\n",
    "    \n",
    "    s_words = nltk.word_tokenize(s)\n",
    "    s_words = [lemmatizer.lemmatize(word.lower()) for word in s_words]\n",
    "    \n",
    "    for se in s_words:\n",
    "        for i, w in enumerate(words):\n",
    "            if w == se:\n",
    "                bag[i] = 1\n",
    "                \n",
    "    return np.array(bag)\n",
    "\n",
    "def predict_class(s, model):\n",
    "    bow = bag_of_words(s, words)\n",
    "    res = model.predict(np.array([bow]))[0]\n",
    "    ERROR_THRESHOLD = 0.25\n",
    "    results = [[i, r] for i, r in enumerate(res) if r > ERROR_THRESHOLD]\n",
    "    \n",
    "    # sort by strength of probability\n",
    "    results.sort(key=lambda x: x[1], reverse=True)\n",
    "    return_list = []\n",
    "    for r in results:\n",
    "        return_list.append({'intent': classes[r[0]], 'probability': str(r[1])})\n",
    "        \n",
    "    return return_list\n",
    "\n",
    "def get_response(intents_list, intents_json):\n",
    "    tag = intents_list[0]['intent']\n",
    "    list_of_intents = intents_json['intents']\n",
    "    \n",
    "    for i in list_of_intents:\n",
    "        if i['tag'] == tag:\n",
    "            result = random.choice(i['responses'])\n",
    "            break\n",
    "            \n",
    "    return result\n",
    "\n"
   ],
   "metadata": {
    "collapsed": false,
    "ExecuteTime": {
     "end_time": "2024-03-02T05:44:38.995223600Z",
     "start_time": "2024-03-02T05:44:38.983518300Z"
    }
   },
   "id": "2a6e18d4198f1304",
   "execution_count": 136
  },
  {
   "cell_type": "code",
   "outputs": [],
   "source": [
    "# chatbot response\n",
    "def chatbot_response(text):\n",
    "    ints = predict_class(text, model)\n",
    "    res = get_response(ints, intents)\n",
    "    return res\n",
    "\n"
   ],
   "metadata": {
    "collapsed": false,
    "ExecuteTime": {
     "end_time": "2024-03-02T05:44:39.019250800Z",
     "start_time": "2024-03-02T05:44:38.996214600Z"
    }
   },
   "id": "3971d4e293b9ddc3",
   "execution_count": 137
  },
  {
   "cell_type": "code",
   "outputs": [
    {
     "name": "stdout",
     "output_type": "stream",
     "text": [
      "1/1 [==============================] - 0s 61ms/step\n"
     ]
    }
   ],
   "source": [
    "# create GUI\n",
    "import tkinter\n",
    "from tkinter import *\n",
    "\n",
    "def send():\n",
    "    msg = EntryBox.get(\"1.0\", 'end-1c').strip()\n",
    "    EntryBox.delete(\"0.0\", END)\n",
    "    \n",
    "    if msg != '':\n",
    "        ChatLog.config(state=NORMAL)\n",
    "        ChatLog.insert(END, \"You: \" + msg + '\\n\\n')\n",
    "        ChatLog.config(foreground=\"#442265\", font=(\"Verdana\", 12))\n",
    "        \n",
    "        res = chatbot_response(msg)\n",
    "        ChatLog.insert(END, \"SolentBot: \" + res + '\\n\\n')\n",
    "        \n",
    "        ChatLog.config(state=DISABLED)\n",
    "        ChatLog.yview(END)\n",
    "        \n",
    "base = Tk()\n",
    "base.title(\"SolentBot\")\n",
    "base.geometry(\"400x500\")\n",
    "base.resizable(width=FALSE, height=FALSE)\n",
    "\n",
    "# create chat window\n",
    "\n",
    "ChatLog = Text(base, bd=0, bg=\"white\", height=\"8\", width=\"50\", font=\"Arial\",)\n",
    "\n",
    "ChatLog.config(state=DISABLED)\n",
    "\n",
    "# bind scrollbar to chat window\n",
    "scrollbar = Scrollbar(base, command=ChatLog.yview, cursor=\"heart\")\n",
    "\n",
    "ChatLog['yscrollcommand'] = scrollbar.set\n",
    "\n",
    "# create button to send message\n",
    "SendButton = Button(base, font=(\"Verdana\", 12, 'bold'), text=\"Send\", width=\"12\", height=5,\n",
    "                    bd=0, bg=\"#32de97\", activebackground=\"#3c9d9b\", fg='#ffffff',\n",
    "                    command=send)\n",
    "\n",
    "# create the box to enter message\n",
    "EntryBox = Text(base, bd=0, bg=\"white\", width=\"29\", height=\"5\", font=\"Arial\")\n",
    "\n",
    "# place all components on the screen\n",
    "scrollbar.place(x=376, y=6, height=386)\n",
    "\n",
    "ChatLog.place(x=6, y=6, height=386, width=370)\n",
    "\n",
    "EntryBox.place(x=128, y=401, height=90, width=265)\n",
    "\n",
    "SendButton.place(x=6, y=401, height=90)\n",
    "    \n",
    "    \n",
    "base.mainloop()\n",
    "\n"
   ],
   "metadata": {
    "collapsed": false,
    "ExecuteTime": {
     "end_time": "2024-03-02T05:44:50.238338600Z",
     "start_time": "2024-03-02T05:44:39.009600800Z"
    }
   },
   "id": "f0f8be86c9856eaa",
   "execution_count": 138
  },
  {
   "cell_type": "code",
   "outputs": [
    {
     "name": "stdout",
     "output_type": "stream",
     "text": [
      "1/1 [==============================] - 0s 26ms/step\n",
      "[{'intent': 'name', 'probability': '0.6551252'}]\n",
      "1/1 [==============================] - 0s 23ms/step\n",
      "[{'intent': 'enrollment_process', 'probability': '0.9990626'}]\n"
     ]
    }
   ],
   "source": [
    "# test the confidence score of the predictions and show the percentage of the confidence score  just by typing a tag\n",
    "print(predict_class('solent', model))\n",
    "print(predict_class('courses', model))\n"
   ],
   "metadata": {
    "collapsed": false,
    "ExecuteTime": {
     "end_time": "2024-03-02T05:44:50.397194700Z",
     "start_time": "2024-03-02T05:44:50.226823700Z"
    }
   },
   "id": "e8228ee95480981e",
   "execution_count": 139
  },
  {
   "cell_type": "code",
   "outputs": [],
   "source": [],
   "metadata": {
    "collapsed": false,
    "ExecuteTime": {
     "end_time": "2024-03-02T05:44:50.406968900Z",
     "start_time": "2024-03-02T05:44:50.401105100Z"
    }
   },
   "id": "ffb7a70288809d4f",
   "execution_count": 139
  }
 ],
 "metadata": {
  "kernelspec": {
   "display_name": "Python 3",
   "language": "python",
   "name": "python3"
  },
  "language_info": {
   "codemirror_mode": {
    "name": "ipython",
    "version": 2
   },
   "file_extension": ".py",
   "mimetype": "text/x-python",
   "name": "python",
   "nbconvert_exporter": "python",
   "pygments_lexer": "ipython2",
   "version": "2.7.6"
  }
 },
 "nbformat": 4,
 "nbformat_minor": 5
}
