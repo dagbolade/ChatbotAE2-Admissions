{
 "cells": [
  {
   "cell_type": "markdown",
   "source": [
    "# TRAINING A CHATBOT INTENT CLASSIFIER\n"
   ],
   "metadata": {
    "collapsed": false
   },
   "id": "99094a427d54c713"
  },
  {
   "cell_type": "markdown",
   "source": [
    "## Importing the libraries"
   ],
   "metadata": {
    "collapsed": false
   },
   "id": "134da7d190ed59c7"
  },
  {
   "cell_type": "code",
   "execution_count": 140,
   "id": "initial_id",
   "metadata": {
    "collapsed": true,
    "ExecuteTime": {
     "end_time": "2024-03-02T05:49:20.996786Z",
     "start_time": "2024-03-02T05:49:20.928984400Z"
    }
   },
   "outputs": [],
   "source": [
    "import nltk\n",
    "import numpy as np\n",
    "import random\n",
    "\n",
    "from nltk.stem import WordNetLemmatizer\n",
    "from nltk.tokenize import word_tokenize\n",
    "from nltk.corpus import stopwords"
   ]
  },
  {
   "cell_type": "markdown",
   "source": [],
   "metadata": {
    "collapsed": false
   },
   "id": "e57caff36d793732"
  },
  {
   "cell_type": "code",
   "execution_count": 141,
   "outputs": [
    {
     "name": "stderr",
     "output_type": "stream",
     "text": [
      "[nltk_data] Downloading package wordnet to\n",
      "[nltk_data]     C:\\Users\\dagbo_b40tnyc\\AppData\\Roaming\\nltk_data...\n",
      "[nltk_data]   Package wordnet is already up-to-date!\n",
      "[nltk_data] Downloading package stopwords to\n",
      "[nltk_data]     C:\\Users\\dagbo_b40tnyc\\AppData\\Roaming\\nltk_data...\n",
      "[nltk_data]   Package stopwords is already up-to-date!\n",
      "[nltk_data] Downloading package punkt to\n",
      "[nltk_data]     C:\\Users\\dagbo_b40tnyc\\AppData\\Roaming\\nltk_data...\n",
      "[nltk_data]   Package punkt is already up-to-date!\n"
     ]
    },
    {
     "data": {
      "text/plain": "True"
     },
     "execution_count": 141,
     "metadata": {},
     "output_type": "execute_result"
    }
   ],
   "source": [
    "# download the wordnet and stopwords corpus\n",
    "nltk.download('wordnet') # wordnet is a lexical database for the English language\n",
    "nltk.download('stopwords') # stopwords means words like 'the', 'a', 'an', 'is', 'are', etc.\n",
    "nltk.download('punkt') # punkt means punctuations"
   ],
   "metadata": {
    "collapsed": false,
    "ExecuteTime": {
     "end_time": "2024-03-02T05:49:21.013367Z",
     "start_time": "2024-03-02T05:49:20.993292700Z"
    }
   },
   "id": "b7d8a74774003d99"
  },
  {
   "cell_type": "markdown",
   "source": [
    "## Importing the json file"
   ],
   "metadata": {
    "collapsed": false
   },
   "id": "6a97228fcbc64bf8"
  },
  {
   "cell_type": "code",
   "execution_count": 142,
   "outputs": [],
   "source": [
    "# import intents file\n",
    "import json\n",
    "\n",
    "def load_intents():\n",
    "    with open('intents.json') as file:\n",
    "        intents = json.load(file)\n",
    "    return intents\n",
    "\n",
    "intents = load_intents()"
   ],
   "metadata": {
    "collapsed": false,
    "ExecuteTime": {
     "end_time": "2024-03-02T05:49:21.032826100Z",
     "start_time": "2024-03-02T05:49:21.006190800Z"
    }
   },
   "id": "fd60388bcd7d0514"
  },
  {
   "cell_type": "markdown",
   "source": [
    "## Preprocessing the data"
   ],
   "metadata": {
    "collapsed": false
   },
   "id": "aa1e1a71f5a3e8f4"
  },
  {
   "cell_type": "code",
   "execution_count": 143,
   "outputs": [],
   "source": [
    "# initialize lemmatizer to get stem of words\n",
    "lemmatizer = WordNetLemmatizer() # lemma is the root form of the word and it is very accurate than stemming\n",
    "\n",
    "\n",
    "# loop through each sentence in the intent's patterns\n",
    "def preprocess_intents(intents):\n",
    "    # create empty lists for documents, classes and words\n",
    "    documents = [] # documents means patterns\n",
    "    classes = [] # classes means tags\n",
    "    words = [] # words means vocabulary\n",
    "    ignore_letters = ['!', '?', ',', '.'] # ignore these letters\n",
    "    stop_words = set(stopwords.words('english')) # stop words are words like 'the', 'a', 'an', 'is', 'are', etc.\n",
    "\n",
    "\n",
    "    for intent in intents['intents']:\n",
    "        \n",
    "        # debug for keyerror @ 'patterns'\n",
    "        # print(intent['patterns'])\n",
    "        for pattern in intent['patterns']:\n",
    "            # tokenize each and every word in the sentence\n",
    "            word = nltk.word_tokenize(pattern) \n",
    "            # lemmatize each word and convert into lowercase\n",
    "            word = [lemmatizer.lemmatize(w.lower()) for w in word if w not in stop_words and w not in ignore_letters]\n",
    "            # add word to the word list\n",
    "            words.extend(word) # extend means add to the list and append means add to the end of the list\n",
    "            # add word(s) to documents\n",
    "            documents.append((word, intent['tag'])) #\n",
    "            # add tags to our classes list\n",
    "            if intent['tag'] not in classes: # if tag is not in classes list\n",
    "                classes.append(intent['tag']) # then add it to the classes list\n",
    "                \n",
    "    # sort words and remove duplicates\n",
    "    words = sorted(list(set(words)))\n",
    "    # sort classes\n",
    "    classes = sorted(list(set(classes)))\n",
    "    return documents, classes, words\n",
    "\n",
    "documents, classes, words = preprocess_intents(intents)\n"
   ],
   "metadata": {
    "collapsed": false,
    "ExecuteTime": {
     "end_time": "2024-03-02T05:49:21.071400800Z",
     "start_time": "2024-03-02T05:49:21.019308700Z"
    }
   },
   "id": "ec96ddaa4d2cd674"
  },
  {
   "cell_type": "markdown",
   "source": [
    "## save the preprocessed data"
   ],
   "metadata": {
    "collapsed": false
   },
   "id": "1361248a261d307b"
  },
  {
   "cell_type": "code",
   "execution_count": 144,
   "outputs": [],
   "source": [
    "import pickle\n",
    "\n",
    "#save to file using pickle to dump\n",
    "pickle.dump(words, open ('words.pkl', 'wb'))#wb means writing into binariries\n",
    "pickle.dump(classes, open ('classes.pkl', 'wb'))\n"
   ],
   "metadata": {
    "collapsed": false,
    "ExecuteTime": {
     "end_time": "2024-03-02T05:49:21.553189200Z",
     "start_time": "2024-03-02T05:49:21.056579600Z"
    }
   },
   "id": "3c99826bd5b37a6"
  },
  {
   "cell_type": "markdown",
   "source": [
    "## Create training and testing data"
   ],
   "metadata": {
    "collapsed": false
   },
   "id": "7df4fb694b944680"
  },
  {
   "cell_type": "code",
   "execution_count": 145,
   "outputs": [],
   "source": [
    "\n",
    "#represents the words as numerical values using bag_of_words\n",
    "train = []\n",
    "empty_output = [0] * len(classes)\n",
    "\n",
    "for doc in documents:\n",
    "    #create an empty list of bag of words\n",
    "    bag = []\n",
    "    word_patterns = doc[0]\n",
    "    word_patterns = [lemmatizer.lemmatize(word.lower()) for word in word_patterns]\n",
    "    for word in words:\n",
    "        bag.append(1) if word in word_patterns  else bag.append(0)\n",
    "    \n",
    "    output = list(empty_output)\n",
    "    output[classes.index(doc[1])] = 1\n",
    "    # Ensure the 'bag' has the same length as 'words'\n",
    "    assert len(bag) == len(words), f\"Bag length: {len(bag)}, expected: {len(words)}\"\n",
    "    \n",
    "    # Ensure the 'output' has the same length as 'classes'\n",
    "    assert len(output) == len(classes), f\"Output length: {len(output)}, expected: {len(classes)}\"\n",
    "    train.append([bag, output])"
   ],
   "metadata": {
    "collapsed": false,
    "ExecuteTime": {
     "end_time": "2024-03-02T05:49:21.568536400Z",
     "start_time": "2024-03-02T05:49:21.554311100Z"
    }
   },
   "id": "7452a7b953f89515"
  },
  {
   "cell_type": "code",
   "execution_count": 146,
   "outputs": [],
   "source": [
    "# shuffle the features and make numpy array\n",
    "random.shuffle(train)\n",
    "# Before converting to a NumPy array, ensure all elements in 'train' have the same length\n",
    "#assert all(len(item) == len(train[0]) for item in train), \"Not all lists in 'train' have the same length.\"\n",
    "train = np.array(train, dtype=object)\n",
    "\n",
    "# create train and test lists. X - patterns, Y - intents\n",
    "train_x = list(train[:,0])\n",
    "train_y = list(train[:,1])\n",
    "\n"
   ],
   "metadata": {
    "collapsed": false,
    "ExecuteTime": {
     "end_time": "2024-03-02T05:49:21.587133200Z",
     "start_time": "2024-03-02T05:49:21.571464500Z"
    }
   },
   "id": "61519d1a972130b0"
  },
  {
   "cell_type": "markdown",
   "source": [
    "## Building the model using long short term memory (LSTM)"
   ],
   "metadata": {
    "collapsed": false
   },
   "id": "9466fc7cc7a044fa"
  },
  {
   "cell_type": "code",
   "execution_count": 147,
   "outputs": [],
   "source": [
    "# import tensorflow libraries\n",
    "import tensorflow as tf\n",
    "from tensorflow.keras.models import Sequential\n",
    "from tensorflow.keras.layers import Dense, Activation, Dropout\n",
    "from tensorflow.keras.optimizers import SGD\n",
    "from tensorflow.keras.optimizers.schedules import ExponentialDecay # learning rate decay over each update\n",
    "\n",
    "# Create a learning rate schedule\n",
    "lr_schedule = ExponentialDecay(\n",
    "    initial_learning_rate=0.01,\n",
    "    decay_steps=100000,\n",
    "    decay_rate=0.96,\n",
    "    staircase=True)\n",
    "\n",
    "# Build the model\n",
    "model = Sequential()\n",
    "model.add(Dense(128, input_shape=(len(train_x[0]),), activation='relu')) # input layer\n",
    "model.add(Dropout(0.5))\n",
    "model.add(Dense(64, activation='relu')) # hidden layer\n",
    "model.add(Dropout(0.5))\n",
    "model.add(Dense(len(train_y[0]), activation='softmax')) # output layer\n",
    "\n",
    "# Compile the model\n",
    "sgd = SGD(learning_rate=lr_schedule, momentum=0.9, nesterov=True) # stochastic gradient descent\n",
    "model.compile(loss='categorical_crossentropy', optimizer=sgd, metrics=['accuracy'])\n",
    "\n"
   ],
   "metadata": {
    "collapsed": false,
    "ExecuteTime": {
     "end_time": "2024-03-02T05:49:21.639885800Z",
     "start_time": "2024-03-02T05:49:21.584170200Z"
    }
   },
   "id": "f12e6e3ee3b2b1ee"
  },
  {
   "cell_type": "markdown",
   "source": [
    "## Training and saving the model"
   ],
   "metadata": {
    "collapsed": false
   },
   "id": "f38cafa22d677c7a"
  },
  {
   "cell_type": "code",
   "execution_count": 148,
   "outputs": [
    {
     "name": "stdout",
     "output_type": "stream",
     "text": [
      "Epoch 1/200\n",
      "57/57 [==============================] - 1s 2ms/step - loss: 4.3914 - accuracy: 0.0000e+00\n",
      "Epoch 2/200\n",
      "57/57 [==============================] - 0s 2ms/step - loss: 4.3680 - accuracy: 0.0212\n",
      "Epoch 3/200\n",
      "57/57 [==============================] - 0s 2ms/step - loss: 4.3573 - accuracy: 0.0177\n",
      "Epoch 4/200\n",
      "57/57 [==============================] - 0s 2ms/step - loss: 4.3199 - accuracy: 0.0389\n",
      "Epoch 5/200\n",
      "57/57 [==============================] - 0s 2ms/step - loss: 4.2827 - accuracy: 0.0424\n",
      "Epoch 6/200\n",
      "57/57 [==============================] - 0s 2ms/step - loss: 4.2543 - accuracy: 0.0247\n",
      "Epoch 7/200\n",
      "57/57 [==============================] - 0s 2ms/step - loss: 4.2049 - accuracy: 0.0601\n",
      "Epoch 8/200\n",
      "57/57 [==============================] - 0s 2ms/step - loss: 4.1774 - accuracy: 0.0495\n",
      "Epoch 9/200\n",
      "57/57 [==============================] - 0s 2ms/step - loss: 4.0983 - accuracy: 0.0813\n",
      "Epoch 10/200\n",
      "57/57 [==============================] - 0s 2ms/step - loss: 4.0457 - accuracy: 0.0954\n",
      "Epoch 11/200\n",
      "57/57 [==============================] - 0s 2ms/step - loss: 3.9516 - accuracy: 0.0989\n",
      "Epoch 12/200\n",
      "57/57 [==============================] - 0s 2ms/step - loss: 3.7801 - accuracy: 0.1555\n",
      "Epoch 13/200\n",
      "57/57 [==============================] - 0s 2ms/step - loss: 3.6999 - accuracy: 0.1555\n",
      "Epoch 14/200\n",
      "57/57 [==============================] - 0s 2ms/step - loss: 3.5262 - accuracy: 0.1555\n",
      "Epoch 15/200\n",
      "57/57 [==============================] - 0s 2ms/step - loss: 3.4256 - accuracy: 0.1802\n",
      "Epoch 16/200\n",
      "57/57 [==============================] - 0s 2ms/step - loss: 3.3028 - accuracy: 0.2049\n",
      "Epoch 17/200\n",
      "57/57 [==============================] - 0s 2ms/step - loss: 3.1140 - accuracy: 0.2438\n",
      "Epoch 18/200\n",
      "57/57 [==============================] - 0s 2ms/step - loss: 3.0179 - accuracy: 0.2297\n",
      "Epoch 19/200\n",
      "57/57 [==============================] - 0s 2ms/step - loss: 2.9169 - accuracy: 0.2438\n",
      "Epoch 20/200\n",
      "57/57 [==============================] - 0s 2ms/step - loss: 2.7565 - accuracy: 0.2968\n",
      "Epoch 21/200\n",
      "57/57 [==============================] - 0s 2ms/step - loss: 2.7334 - accuracy: 0.2686\n",
      "Epoch 22/200\n",
      "57/57 [==============================] - 0s 2ms/step - loss: 2.4898 - accuracy: 0.3710\n",
      "Epoch 23/200\n",
      "57/57 [==============================] - 0s 2ms/step - loss: 2.4836 - accuracy: 0.3216\n",
      "Epoch 24/200\n",
      "57/57 [==============================] - 0s 2ms/step - loss: 2.2805 - accuracy: 0.3887\n",
      "Epoch 25/200\n",
      "57/57 [==============================] - 0s 2ms/step - loss: 2.2707 - accuracy: 0.3958\n",
      "Epoch 26/200\n",
      "57/57 [==============================] - 0s 2ms/step - loss: 2.2124 - accuracy: 0.3958\n",
      "Epoch 27/200\n",
      "57/57 [==============================] - 0s 2ms/step - loss: 2.0893 - accuracy: 0.4134\n",
      "Epoch 28/200\n",
      "57/57 [==============================] - 0s 2ms/step - loss: 2.0156 - accuracy: 0.4134\n",
      "Epoch 29/200\n",
      "57/57 [==============================] - 0s 2ms/step - loss: 1.9902 - accuracy: 0.4382\n",
      "Epoch 30/200\n",
      "57/57 [==============================] - 0s 2ms/step - loss: 1.8669 - accuracy: 0.4488\n",
      "Epoch 31/200\n",
      "57/57 [==============================] - 0s 3ms/step - loss: 1.7429 - accuracy: 0.4912\n",
      "Epoch 32/200\n",
      "57/57 [==============================] - 0s 2ms/step - loss: 1.7266 - accuracy: 0.4841\n",
      "Epoch 33/200\n",
      "57/57 [==============================] - 0s 2ms/step - loss: 1.6893 - accuracy: 0.5159\n",
      "Epoch 34/200\n",
      "57/57 [==============================] - 0s 2ms/step - loss: 1.6090 - accuracy: 0.5230\n",
      "Epoch 35/200\n",
      "57/57 [==============================] - 0s 2ms/step - loss: 1.6110 - accuracy: 0.5088\n",
      "Epoch 36/200\n",
      "57/57 [==============================] - 0s 2ms/step - loss: 1.6579 - accuracy: 0.5053\n",
      "Epoch 37/200\n",
      "57/57 [==============================] - 0s 2ms/step - loss: 1.5828 - accuracy: 0.5548\n",
      "Epoch 38/200\n",
      "57/57 [==============================] - 0s 2ms/step - loss: 1.4440 - accuracy: 0.5371\n",
      "Epoch 39/200\n",
      "57/57 [==============================] - 0s 2ms/step - loss: 1.4830 - accuracy: 0.5406\n",
      "Epoch 40/200\n",
      "57/57 [==============================] - 0s 2ms/step - loss: 1.2930 - accuracy: 0.5795\n",
      "Epoch 41/200\n",
      "57/57 [==============================] - 0s 2ms/step - loss: 1.4037 - accuracy: 0.5689\n",
      "Epoch 42/200\n",
      "57/57 [==============================] - 0s 2ms/step - loss: 1.5275 - accuracy: 0.5300\n",
      "Epoch 43/200\n",
      "57/57 [==============================] - 0s 2ms/step - loss: 1.3308 - accuracy: 0.5795\n",
      "Epoch 44/200\n",
      "57/57 [==============================] - 0s 2ms/step - loss: 1.2214 - accuracy: 0.6502\n",
      "Epoch 45/200\n",
      "57/57 [==============================] - 0s 2ms/step - loss: 1.3175 - accuracy: 0.5866\n",
      "Epoch 46/200\n",
      "57/57 [==============================] - 0s 2ms/step - loss: 1.2196 - accuracy: 0.6360\n",
      "Epoch 47/200\n",
      "57/57 [==============================] - 0s 2ms/step - loss: 1.2699 - accuracy: 0.6290\n",
      "Epoch 48/200\n",
      "57/57 [==============================] - 0s 2ms/step - loss: 1.2453 - accuracy: 0.6078\n",
      "Epoch 49/200\n",
      "57/57 [==============================] - 0s 2ms/step - loss: 1.2274 - accuracy: 0.6502\n",
      "Epoch 50/200\n",
      "57/57 [==============================] - 0s 2ms/step - loss: 1.0433 - accuracy: 0.6890\n",
      "Epoch 51/200\n",
      "57/57 [==============================] - 0s 2ms/step - loss: 1.0829 - accuracy: 0.6643\n",
      "Epoch 52/200\n",
      "57/57 [==============================] - 0s 2ms/step - loss: 1.1186 - accuracy: 0.6184\n",
      "Epoch 53/200\n",
      "57/57 [==============================] - 0s 2ms/step - loss: 1.0546 - accuracy: 0.6714\n",
      "Epoch 54/200\n",
      "57/57 [==============================] - 0s 2ms/step - loss: 1.1107 - accuracy: 0.6219\n",
      "Epoch 55/200\n",
      "57/57 [==============================] - 0s 2ms/step - loss: 1.1132 - accuracy: 0.6360\n",
      "Epoch 56/200\n",
      "57/57 [==============================] - 0s 2ms/step - loss: 1.0478 - accuracy: 0.6608\n",
      "Epoch 57/200\n",
      "57/57 [==============================] - 0s 2ms/step - loss: 1.0138 - accuracy: 0.6890\n",
      "Epoch 58/200\n",
      "57/57 [==============================] - 0s 2ms/step - loss: 1.0995 - accuracy: 0.6643\n",
      "Epoch 59/200\n",
      "57/57 [==============================] - 0s 2ms/step - loss: 0.9683 - accuracy: 0.6996\n",
      "Epoch 60/200\n",
      "57/57 [==============================] - 0s 2ms/step - loss: 0.9928 - accuracy: 0.6714\n",
      "Epoch 61/200\n",
      "57/57 [==============================] - 0s 2ms/step - loss: 0.9870 - accuracy: 0.6855\n",
      "Epoch 62/200\n",
      "57/57 [==============================] - 0s 2ms/step - loss: 0.9760 - accuracy: 0.6714\n",
      "Epoch 63/200\n",
      "57/57 [==============================] - 0s 2ms/step - loss: 0.9153 - accuracy: 0.7102\n",
      "Epoch 64/200\n",
      "57/57 [==============================] - 0s 2ms/step - loss: 0.9538 - accuracy: 0.6820\n",
      "Epoch 65/200\n",
      "57/57 [==============================] - 0s 2ms/step - loss: 1.0320 - accuracy: 0.6749\n",
      "Epoch 66/200\n",
      "57/57 [==============================] - 0s 2ms/step - loss: 0.9666 - accuracy: 0.6784\n",
      "Epoch 67/200\n",
      "57/57 [==============================] - 0s 2ms/step - loss: 0.9876 - accuracy: 0.6855\n",
      "Epoch 68/200\n",
      "57/57 [==============================] - 0s 2ms/step - loss: 0.9060 - accuracy: 0.6890\n",
      "Epoch 69/200\n",
      "57/57 [==============================] - 0s 2ms/step - loss: 0.8644 - accuracy: 0.7173\n",
      "Epoch 70/200\n",
      "57/57 [==============================] - 0s 2ms/step - loss: 0.9750 - accuracy: 0.6714\n",
      "Epoch 71/200\n",
      "57/57 [==============================] - 0s 2ms/step - loss: 0.7088 - accuracy: 0.7739\n",
      "Epoch 72/200\n",
      "57/57 [==============================] - 0s 2ms/step - loss: 0.9450 - accuracy: 0.6961\n",
      "Epoch 73/200\n",
      "57/57 [==============================] - 0s 2ms/step - loss: 0.9010 - accuracy: 0.7138\n",
      "Epoch 74/200\n",
      "57/57 [==============================] - 0s 2ms/step - loss: 0.8881 - accuracy: 0.7102\n",
      "Epoch 75/200\n",
      "57/57 [==============================] - 0s 2ms/step - loss: 0.7941 - accuracy: 0.7385\n",
      "Epoch 76/200\n",
      "57/57 [==============================] - 0s 2ms/step - loss: 0.8424 - accuracy: 0.7244\n",
      "Epoch 77/200\n",
      "57/57 [==============================] - 0s 2ms/step - loss: 0.7540 - accuracy: 0.7314\n",
      "Epoch 78/200\n",
      "57/57 [==============================] - 0s 2ms/step - loss: 0.8680 - accuracy: 0.6820\n",
      "Epoch 79/200\n",
      "57/57 [==============================] - 0s 2ms/step - loss: 0.8004 - accuracy: 0.6926\n",
      "Epoch 80/200\n",
      "57/57 [==============================] - 0s 2ms/step - loss: 0.7941 - accuracy: 0.7102\n",
      "Epoch 81/200\n",
      "57/57 [==============================] - 0s 2ms/step - loss: 0.8162 - accuracy: 0.7314\n",
      "Epoch 82/200\n",
      "57/57 [==============================] - 0s 2ms/step - loss: 0.7656 - accuracy: 0.7456\n",
      "Epoch 83/200\n",
      "57/57 [==============================] - 0s 2ms/step - loss: 0.8250 - accuracy: 0.6996\n",
      "Epoch 84/200\n",
      "57/57 [==============================] - 0s 2ms/step - loss: 0.8207 - accuracy: 0.7102\n",
      "Epoch 85/200\n",
      "57/57 [==============================] - 0s 2ms/step - loss: 0.7912 - accuracy: 0.7102\n",
      "Epoch 86/200\n",
      "57/57 [==============================] - 0s 2ms/step - loss: 0.7567 - accuracy: 0.7385\n",
      "Epoch 87/200\n",
      "57/57 [==============================] - 0s 2ms/step - loss: 0.7173 - accuracy: 0.7527\n",
      "Epoch 88/200\n",
      "57/57 [==============================] - 0s 2ms/step - loss: 0.7860 - accuracy: 0.7279\n",
      "Epoch 89/200\n",
      "57/57 [==============================] - 0s 2ms/step - loss: 0.8182 - accuracy: 0.7350\n",
      "Epoch 90/200\n",
      "57/57 [==============================] - 0s 2ms/step - loss: 0.7016 - accuracy: 0.7420\n",
      "Epoch 91/200\n",
      "57/57 [==============================] - 0s 2ms/step - loss: 0.8584 - accuracy: 0.6749\n",
      "Epoch 92/200\n",
      "57/57 [==============================] - 0s 2ms/step - loss: 0.7136 - accuracy: 0.7562\n",
      "Epoch 93/200\n",
      "57/57 [==============================] - 0s 2ms/step - loss: 0.7048 - accuracy: 0.7491\n",
      "Epoch 94/200\n",
      "57/57 [==============================] - 0s 2ms/step - loss: 0.7738 - accuracy: 0.7385\n",
      "Epoch 95/200\n",
      "57/57 [==============================] - 0s 2ms/step - loss: 0.8285 - accuracy: 0.7279\n",
      "Epoch 96/200\n",
      "57/57 [==============================] - 0s 2ms/step - loss: 0.8711 - accuracy: 0.7385\n",
      "Epoch 97/200\n",
      "57/57 [==============================] - 0s 2ms/step - loss: 0.8757 - accuracy: 0.6926\n",
      "Epoch 98/200\n",
      "57/57 [==============================] - 0s 2ms/step - loss: 0.7392 - accuracy: 0.7350\n",
      "Epoch 99/200\n",
      "57/57 [==============================] - 0s 2ms/step - loss: 0.7963 - accuracy: 0.7102\n",
      "Epoch 100/200\n",
      "57/57 [==============================] - 0s 2ms/step - loss: 0.6909 - accuracy: 0.7633\n",
      "Epoch 101/200\n",
      "57/57 [==============================] - 0s 2ms/step - loss: 0.7846 - accuracy: 0.7314\n",
      "Epoch 102/200\n",
      "57/57 [==============================] - 0s 2ms/step - loss: 0.7319 - accuracy: 0.7208\n",
      "Epoch 103/200\n",
      "57/57 [==============================] - 0s 2ms/step - loss: 0.6631 - accuracy: 0.7562\n",
      "Epoch 104/200\n",
      "57/57 [==============================] - 0s 2ms/step - loss: 0.7050 - accuracy: 0.7527\n",
      "Epoch 105/200\n",
      "57/57 [==============================] - 0s 2ms/step - loss: 0.7360 - accuracy: 0.7491\n",
      "Epoch 106/200\n",
      "57/57 [==============================] - 0s 2ms/step - loss: 0.7755 - accuracy: 0.7350\n",
      "Epoch 107/200\n",
      "57/57 [==============================] - 0s 2ms/step - loss: 0.8988 - accuracy: 0.6784\n",
      "Epoch 108/200\n",
      "57/57 [==============================] - 0s 2ms/step - loss: 0.6988 - accuracy: 0.7385\n",
      "Epoch 109/200\n",
      "57/57 [==============================] - 0s 2ms/step - loss: 0.6991 - accuracy: 0.7703\n",
      "Epoch 110/200\n",
      "57/57 [==============================] - 0s 2ms/step - loss: 0.6422 - accuracy: 0.7951\n",
      "Epoch 111/200\n",
      "57/57 [==============================] - 0s 2ms/step - loss: 0.7027 - accuracy: 0.7739\n",
      "Epoch 112/200\n",
      "57/57 [==============================] - 0s 2ms/step - loss: 0.7697 - accuracy: 0.7244\n",
      "Epoch 113/200\n",
      "57/57 [==============================] - 0s 2ms/step - loss: 0.6919 - accuracy: 0.7668\n",
      "Epoch 114/200\n",
      "57/57 [==============================] - 0s 2ms/step - loss: 0.6949 - accuracy: 0.7597\n",
      "Epoch 115/200\n",
      "57/57 [==============================] - 0s 2ms/step - loss: 0.6402 - accuracy: 0.7774\n",
      "Epoch 116/200\n",
      "57/57 [==============================] - 0s 2ms/step - loss: 0.6293 - accuracy: 0.7845\n",
      "Epoch 117/200\n",
      "57/57 [==============================] - 0s 2ms/step - loss: 0.5606 - accuracy: 0.7986\n",
      "Epoch 118/200\n",
      "57/57 [==============================] - 0s 2ms/step - loss: 0.6876 - accuracy: 0.7774\n",
      "Epoch 119/200\n",
      "57/57 [==============================] - 0s 2ms/step - loss: 0.6731 - accuracy: 0.7703\n",
      "Epoch 120/200\n",
      "57/57 [==============================] - 0s 2ms/step - loss: 0.6921 - accuracy: 0.7703\n",
      "Epoch 121/200\n",
      "57/57 [==============================] - 0s 2ms/step - loss: 0.6943 - accuracy: 0.7633\n",
      "Epoch 122/200\n",
      "57/57 [==============================] - 0s 2ms/step - loss: 0.6418 - accuracy: 0.7739\n",
      "Epoch 123/200\n",
      "57/57 [==============================] - 0s 2ms/step - loss: 0.6902 - accuracy: 0.7527\n",
      "Epoch 124/200\n",
      "57/57 [==============================] - 0s 2ms/step - loss: 0.6601 - accuracy: 0.7633\n",
      "Epoch 125/200\n",
      "57/57 [==============================] - 0s 2ms/step - loss: 0.6055 - accuracy: 0.8021\n",
      "Epoch 126/200\n",
      "57/57 [==============================] - 0s 2ms/step - loss: 0.7091 - accuracy: 0.7668\n",
      "Epoch 127/200\n",
      "57/57 [==============================] - 0s 2ms/step - loss: 0.6566 - accuracy: 0.7420\n",
      "Epoch 128/200\n",
      "57/57 [==============================] - 0s 2ms/step - loss: 0.6744 - accuracy: 0.7809\n",
      "Epoch 129/200\n",
      "57/57 [==============================] - 0s 2ms/step - loss: 0.5668 - accuracy: 0.8163\n",
      "Epoch 130/200\n",
      "57/57 [==============================] - 0s 2ms/step - loss: 0.6155 - accuracy: 0.7739\n",
      "Epoch 131/200\n",
      "57/57 [==============================] - 0s 2ms/step - loss: 0.6127 - accuracy: 0.7880\n",
      "Epoch 132/200\n",
      "57/57 [==============================] - 0s 2ms/step - loss: 0.5031 - accuracy: 0.8233\n",
      "Epoch 133/200\n",
      "57/57 [==============================] - 0s 2ms/step - loss: 0.6046 - accuracy: 0.7915\n",
      "Epoch 134/200\n",
      "57/57 [==============================] - 0s 2ms/step - loss: 0.6489 - accuracy: 0.7845\n",
      "Epoch 135/200\n",
      "57/57 [==============================] - 0s 2ms/step - loss: 0.5976 - accuracy: 0.7774\n",
      "Epoch 136/200\n",
      "57/57 [==============================] - 0s 2ms/step - loss: 0.7437 - accuracy: 0.7527\n",
      "Epoch 137/200\n",
      "57/57 [==============================] - 0s 2ms/step - loss: 0.6472 - accuracy: 0.7314\n",
      "Epoch 138/200\n",
      "57/57 [==============================] - 0s 3ms/step - loss: 0.5879 - accuracy: 0.7845\n",
      "Epoch 139/200\n",
      "57/57 [==============================] - 0s 2ms/step - loss: 0.5756 - accuracy: 0.7915\n",
      "Epoch 140/200\n",
      "57/57 [==============================] - 0s 2ms/step - loss: 0.6771 - accuracy: 0.7633\n",
      "Epoch 141/200\n",
      "57/57 [==============================] - 0s 2ms/step - loss: 0.5756 - accuracy: 0.8233\n",
      "Epoch 142/200\n",
      "57/57 [==============================] - 0s 2ms/step - loss: 0.5583 - accuracy: 0.7774\n",
      "Epoch 143/200\n",
      "57/57 [==============================] - 0s 2ms/step - loss: 0.6073 - accuracy: 0.7739\n",
      "Epoch 144/200\n",
      "57/57 [==============================] - 0s 2ms/step - loss: 0.6828 - accuracy: 0.7703\n",
      "Epoch 145/200\n",
      "57/57 [==============================] - 0s 2ms/step - loss: 0.5987 - accuracy: 0.7986\n",
      "Epoch 146/200\n",
      "57/57 [==============================] - 0s 2ms/step - loss: 0.5766 - accuracy: 0.8127\n",
      "Epoch 147/200\n",
      "57/57 [==============================] - 0s 2ms/step - loss: 0.6342 - accuracy: 0.7880\n",
      "Epoch 148/200\n",
      "57/57 [==============================] - 0s 2ms/step - loss: 0.5339 - accuracy: 0.7880\n",
      "Epoch 149/200\n",
      "57/57 [==============================] - 0s 2ms/step - loss: 0.6135 - accuracy: 0.7739\n",
      "Epoch 150/200\n",
      "57/57 [==============================] - 0s 2ms/step - loss: 0.5329 - accuracy: 0.8021\n",
      "Epoch 151/200\n",
      "57/57 [==============================] - 0s 2ms/step - loss: 0.6859 - accuracy: 0.7385\n",
      "Epoch 152/200\n",
      "57/57 [==============================] - 0s 2ms/step - loss: 0.6367 - accuracy: 0.7562\n",
      "Epoch 153/200\n",
      "57/57 [==============================] - 0s 2ms/step - loss: 0.7075 - accuracy: 0.7703\n",
      "Epoch 154/200\n",
      "57/57 [==============================] - 0s 2ms/step - loss: 0.6158 - accuracy: 0.7880\n",
      "Epoch 155/200\n",
      "57/57 [==============================] - 0s 2ms/step - loss: 0.5374 - accuracy: 0.8021\n",
      "Epoch 156/200\n",
      "57/57 [==============================] - 0s 2ms/step - loss: 0.6697 - accuracy: 0.7633\n",
      "Epoch 157/200\n",
      "57/57 [==============================] - 0s 2ms/step - loss: 0.5358 - accuracy: 0.8057\n",
      "Epoch 158/200\n",
      "57/57 [==============================] - 0s 2ms/step - loss: 0.6872 - accuracy: 0.7633\n",
      "Epoch 159/200\n",
      "57/57 [==============================] - 0s 2ms/step - loss: 0.6742 - accuracy: 0.7809\n",
      "Epoch 160/200\n",
      "57/57 [==============================] - 0s 2ms/step - loss: 0.5805 - accuracy: 0.7880\n",
      "Epoch 161/200\n",
      "57/57 [==============================] - 0s 2ms/step - loss: 0.5492 - accuracy: 0.7703\n",
      "Epoch 162/200\n",
      "57/57 [==============================] - 0s 2ms/step - loss: 0.5694 - accuracy: 0.7951\n",
      "Epoch 163/200\n",
      "57/57 [==============================] - 0s 2ms/step - loss: 0.5853 - accuracy: 0.8127\n",
      "Epoch 164/200\n",
      "57/57 [==============================] - 0s 2ms/step - loss: 0.5753 - accuracy: 0.7951\n",
      "Epoch 165/200\n",
      "57/57 [==============================] - 0s 2ms/step - loss: 0.6455 - accuracy: 0.7809\n",
      "Epoch 166/200\n",
      "57/57 [==============================] - 0s 2ms/step - loss: 0.5231 - accuracy: 0.8198\n",
      "Epoch 167/200\n",
      "57/57 [==============================] - 0s 2ms/step - loss: 0.6771 - accuracy: 0.7880\n",
      "Epoch 168/200\n",
      "57/57 [==============================] - 0s 2ms/step - loss: 0.4854 - accuracy: 0.8304\n",
      "Epoch 169/200\n",
      "57/57 [==============================] - 0s 2ms/step - loss: 0.6772 - accuracy: 0.7986\n",
      "Epoch 170/200\n",
      "57/57 [==============================] - 0s 2ms/step - loss: 0.5735 - accuracy: 0.7774\n",
      "Epoch 171/200\n",
      "57/57 [==============================] - 0s 2ms/step - loss: 0.5482 - accuracy: 0.8021\n",
      "Epoch 172/200\n",
      "57/57 [==============================] - 0s 2ms/step - loss: 0.5153 - accuracy: 0.8127\n",
      "Epoch 173/200\n",
      "57/57 [==============================] - 0s 2ms/step - loss: 0.6877 - accuracy: 0.7774\n",
      "Epoch 174/200\n",
      "57/57 [==============================] - 0s 2ms/step - loss: 0.5355 - accuracy: 0.8092\n",
      "Epoch 175/200\n",
      "57/57 [==============================] - 0s 2ms/step - loss: 0.6787 - accuracy: 0.7668\n",
      "Epoch 176/200\n",
      "57/57 [==============================] - 0s 2ms/step - loss: 0.5586 - accuracy: 0.8057\n",
      "Epoch 177/200\n",
      "57/57 [==============================] - 0s 2ms/step - loss: 0.4932 - accuracy: 0.8198\n",
      "Epoch 178/200\n",
      "57/57 [==============================] - 0s 2ms/step - loss: 0.6340 - accuracy: 0.7739\n",
      "Epoch 179/200\n",
      "57/57 [==============================] - 0s 2ms/step - loss: 0.5347 - accuracy: 0.8021\n",
      "Epoch 180/200\n",
      "57/57 [==============================] - 0s 2ms/step - loss: 0.5749 - accuracy: 0.7986\n",
      "Epoch 181/200\n",
      "57/57 [==============================] - 0s 2ms/step - loss: 0.6441 - accuracy: 0.7739\n",
      "Epoch 182/200\n",
      "57/57 [==============================] - 0s 2ms/step - loss: 0.5945 - accuracy: 0.7774\n",
      "Epoch 183/200\n",
      "57/57 [==============================] - 0s 2ms/step - loss: 0.5883 - accuracy: 0.7915\n",
      "Epoch 184/200\n",
      "57/57 [==============================] - 0s 2ms/step - loss: 0.5209 - accuracy: 0.8163\n",
      "Epoch 185/200\n",
      "57/57 [==============================] - 0s 2ms/step - loss: 0.5620 - accuracy: 0.8021\n",
      "Epoch 186/200\n",
      "57/57 [==============================] - 0s 2ms/step - loss: 0.5131 - accuracy: 0.8163\n",
      "Epoch 187/200\n",
      "57/57 [==============================] - 0s 2ms/step - loss: 0.5741 - accuracy: 0.8198\n",
      "Epoch 188/200\n",
      "57/57 [==============================] - 0s 2ms/step - loss: 0.5979 - accuracy: 0.7845\n",
      "Epoch 189/200\n",
      "57/57 [==============================] - 0s 2ms/step - loss: 0.6587 - accuracy: 0.7350\n",
      "Epoch 190/200\n",
      "57/57 [==============================] - 0s 2ms/step - loss: 0.4472 - accuracy: 0.8198\n",
      "Epoch 191/200\n",
      "57/57 [==============================] - 0s 2ms/step - loss: 0.5465 - accuracy: 0.7915\n",
      "Epoch 192/200\n",
      "57/57 [==============================] - 0s 2ms/step - loss: 0.5167 - accuracy: 0.8127\n",
      "Epoch 193/200\n",
      "57/57 [==============================] - 0s 2ms/step - loss: 0.5780 - accuracy: 0.7915\n",
      "Epoch 194/200\n",
      "57/57 [==============================] - 0s 2ms/step - loss: 0.6040 - accuracy: 0.7880\n",
      "Epoch 195/200\n",
      "57/57 [==============================] - 0s 2ms/step - loss: 0.5376 - accuracy: 0.8092\n",
      "Epoch 196/200\n",
      "57/57 [==============================] - 0s 2ms/step - loss: 0.5690 - accuracy: 0.7774\n",
      "Epoch 197/200\n",
      "57/57 [==============================] - 0s 2ms/step - loss: 0.4925 - accuracy: 0.8198\n",
      "Epoch 198/200\n",
      "57/57 [==============================] - 0s 2ms/step - loss: 0.4635 - accuracy: 0.8021\n",
      "Epoch 199/200\n",
      "57/57 [==============================] - 0s 2ms/step - loss: 0.5172 - accuracy: 0.8021\n",
      "Epoch 200/200\n",
      "57/57 [==============================] - 0s 2ms/step - loss: 0.5676 - accuracy: 0.7739\n",
      "9/9 [==============================] - 0s 2ms/step - loss: 0.1554 - accuracy: 0.9152\n",
      "Loss: 0.1553523689508438, accuracy: 0.9151943325996399\n"
     ]
    }
   ],
   "source": [
    "# Training and saving the model\n",
    "solentBot = model.fit(np.array(train_x), np.array(train_y), epochs=200, batch_size=5, verbose=1)\n",
    "loss, accuracy = model.evaluate(np.array(train_x), np.array(train_y))\n",
    "print(f\"Loss: {loss}, accuracy: {accuracy}\")\n",
    "#model.save('solentBot_model.h5', solentBot)"
   ],
   "metadata": {
    "collapsed": false,
    "ExecuteTime": {
     "end_time": "2024-03-02T05:49:47.601043300Z",
     "start_time": "2024-03-02T05:49:21.649646Z"
    }
   },
   "id": "bb88c814a747a8c8"
  },
  {
   "cell_type": "code",
   "execution_count": 149,
   "outputs": [
    {
     "name": "stdout",
     "output_type": "stream",
     "text": [
      "model created, saved and trained\n"
     ]
    }
   ],
   "source": [
    "# save the model to disk\n",
    "model.save('solentBot_model.h5', solentBot)\n",
    "print(\"model created, saved and trained\")"
   ],
   "metadata": {
    "collapsed": false,
    "ExecuteTime": {
     "end_time": "2024-03-02T05:49:47.648916800Z",
     "start_time": "2024-03-02T05:49:47.601043300Z"
    }
   },
   "id": "b651e51c6321de7e"
  },
  {
   "cell_type": "code",
   "outputs": [],
   "source": [
    "# evaluate the model to check for confidence score of the predictions\n",
    "def bag_of_words(s, words):\n",
    "    bag = [0 for _ in range(len(words))]\n",
    "    \n",
    "    s_words = nltk.word_tokenize(s)\n",
    "    s_words = [lemmatizer.lemmatize(word.lower()) for word in s_words]\n",
    "    \n",
    "    for se in s_words:\n",
    "        for i, w in enumerate(words):\n",
    "            if w == se:\n",
    "                bag[i] = 1\n",
    "                \n",
    "    return np.array(bag)\n",
    "\n",
    "def predict_class(s, model):\n",
    "    bow = bag_of_words(s, words)\n",
    "    res = model.predict(np.array([bow]))[0]\n",
    "    ERROR_THRESHOLD = 0.25\n",
    "    results = [[i, r] for i, r in enumerate(res) if r > ERROR_THRESHOLD]\n",
    "    \n",
    "    # sort by strength of probability\n",
    "    results.sort(key=lambda x: x[1], reverse=True)\n",
    "    return_list = []\n",
    "    for r in results:\n",
    "        return_list.append({'intent': classes[r[0]], 'probability': str(r[1])})\n",
    "        \n",
    "    return return_list\n",
    "\n",
    "def get_response(intents_list, intents_json):\n",
    "    tag = intents_list[0]['intent']\n",
    "    list_of_intents = intents_json['intents']\n",
    "    \n",
    "    for i in list_of_intents:\n",
    "        if i['tag'] == tag:\n",
    "            result = random.choice(i['responses'])\n",
    "            break\n",
    "            \n",
    "    return result\n",
    "\n"
   ],
   "metadata": {
    "collapsed": false,
    "ExecuteTime": {
     "end_time": "2024-03-02T05:49:47.650867300Z",
     "start_time": "2024-03-02T05:49:47.631341800Z"
    }
   },
   "id": "2a6e18d4198f1304",
   "execution_count": 150
  },
  {
   "cell_type": "code",
   "outputs": [],
   "source": [
    "# chatbot response\n",
    "def chatbot_response(text):\n",
    "    ints = predict_class(text, model)\n",
    "    res = get_response(ints, intents)\n",
    "    return res\n",
    "\n"
   ],
   "metadata": {
    "collapsed": false,
    "ExecuteTime": {
     "end_time": "2024-03-02T05:49:47.651845Z",
     "start_time": "2024-03-02T05:49:47.640127900Z"
    }
   },
   "id": "3971d4e293b9ddc3",
   "execution_count": 151
  },
  {
   "cell_type": "code",
   "outputs": [],
   "source": [
    "# create GUI\n",
    "import tkinter\n",
    "from tkinter import *\n",
    "\n",
    "def send():\n",
    "    msg = EntryBox.get(\"1.0\", 'end-1c').strip()\n",
    "    EntryBox.delete(\"0.0\", END)\n",
    "    \n",
    "    if msg != '':\n",
    "        ChatLog.config(state=NORMAL)\n",
    "        ChatLog.insert(END, \"You: \" + msg + '\\n\\n')\n",
    "        ChatLog.config(foreground=\"#442265\", font=(\"Verdana\", 12))\n",
    "        \n",
    "        res = chatbot_response(msg)\n",
    "        ChatLog.insert(END, \"SolentBot: \" + res + '\\n\\n')\n",
    "        \n",
    "        ChatLog.config(state=DISABLED)\n",
    "        ChatLog.yview(END)\n",
    "        \n",
    "base = Tk()\n",
    "base.title(\"SolentBot\")\n",
    "base.geometry(\"400x500\")\n",
    "base.resizable(width=FALSE, height=FALSE)\n",
    "\n",
    "# create chat window\n",
    "\n",
    "ChatLog = Text(base, bd=0, bg=\"white\", height=\"8\", width=\"50\", font=\"Arial\",)\n",
    "\n",
    "ChatLog.config(state=DISABLED)\n",
    "\n",
    "# bind scrollbar to chat window\n",
    "scrollbar = Scrollbar(base, command=ChatLog.yview, cursor=\"heart\")\n",
    "\n",
    "ChatLog['yscrollcommand'] = scrollbar.set\n",
    "\n",
    "# create button to send message\n",
    "SendButton = Button(base, font=(\"Verdana\", 12, 'bold'), text=\"Send\", width=\"12\", height=5,\n",
    "                    bd=0, bg=\"#32de97\", activebackground=\"#3c9d9b\", fg='#ffffff',\n",
    "                    command=send)\n",
    "\n",
    "# create the box to enter message\n",
    "EntryBox = Text(base, bd=0, bg=\"white\", width=\"29\", height=\"5\", font=\"Arial\")\n",
    "\n",
    "# place all components on the screen\n",
    "scrollbar.place(x=376, y=6, height=386)\n",
    "\n",
    "ChatLog.place(x=6, y=6, height=386, width=370)\n",
    "\n",
    "EntryBox.place(x=128, y=401, height=90, width=265)\n",
    "\n",
    "SendButton.place(x=6, y=401, height=90)\n",
    "    \n",
    "    \n",
    "base.mainloop()\n",
    "\n"
   ],
   "metadata": {
    "collapsed": false,
    "ExecuteTime": {
     "end_time": "2024-03-02T05:49:55.977264900Z",
     "start_time": "2024-03-02T05:49:47.652825300Z"
    }
   },
   "id": "f0f8be86c9856eaa",
   "execution_count": 152
  },
  {
   "cell_type": "code",
   "outputs": [
    {
     "name": "stdout",
     "output_type": "stream",
     "text": [
      "1/1 [==============================] - 0s 74ms/step\n",
      "[{'intent': 'name', 'probability': '0.5357875'}]\n",
      "1/1 [==============================] - 0s 26ms/step\n",
      "[{'intent': 'course_information', 'probability': '0.9994455'}]\n"
     ]
    }
   ],
   "source": [
    "# test the confidence score of the predictions and show the percentage of the confidence score  just by typing a tag\n",
    "print(predict_class('solent', model))\n",
    "print(predict_class('courses', model))\n"
   ],
   "metadata": {
    "collapsed": false,
    "ExecuteTime": {
     "end_time": "2024-03-02T05:49:56.198133900Z",
     "start_time": "2024-03-02T05:49:55.965546Z"
    }
   },
   "id": "e8228ee95480981e",
   "execution_count": 153
  },
  {
   "cell_type": "code",
   "outputs": [],
   "source": [],
   "metadata": {
    "collapsed": false,
    "ExecuteTime": {
     "end_time": "2024-03-02T05:49:56.207903Z",
     "start_time": "2024-03-02T05:49:56.195211100Z"
    }
   },
   "id": "ffb7a70288809d4f",
   "execution_count": 153
  }
 ],
 "metadata": {
  "kernelspec": {
   "display_name": "Python 3",
   "language": "python",
   "name": "python3"
  },
  "language_info": {
   "codemirror_mode": {
    "name": "ipython",
    "version": 2
   },
   "file_extension": ".py",
   "mimetype": "text/x-python",
   "name": "python",
   "nbconvert_exporter": "python",
   "pygments_lexer": "ipython2",
   "version": "2.7.6"
  }
 },
 "nbformat": 4,
 "nbformat_minor": 5
}
