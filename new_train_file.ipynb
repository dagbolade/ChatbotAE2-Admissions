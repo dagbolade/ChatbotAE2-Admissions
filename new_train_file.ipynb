{
 "cells": [
  {
   "cell_type": "markdown",
   "source": [
    "# TRAINING A CHATBOT INTENT CLASSIFIER\n"
   ],
   "metadata": {
    "collapsed": false
   },
   "id": "99094a427d54c713"
  },
  {
   "cell_type": "markdown",
   "source": [
    "## Importing the libraries"
   ],
   "metadata": {
    "collapsed": false
   },
   "id": "134da7d190ed59c7"
  },
  {
   "cell_type": "code",
   "execution_count": 112,
   "id": "initial_id",
   "metadata": {
    "collapsed": true,
    "ExecuteTime": {
     "end_time": "2024-03-02T05:39:40.136848100Z",
     "start_time": "2024-03-02T05:39:40.108527800Z"
    }
   },
   "outputs": [],
   "source": [
    "import nltk\n",
    "import numpy as np\n",
    "import random\n",
    "\n",
    "from nltk.stem import WordNetLemmatizer\n",
    "from nltk.tokenize import word_tokenize\n",
    "from nltk.corpus import stopwords"
   ]
  },
  {
   "cell_type": "markdown",
   "source": [],
   "metadata": {
    "collapsed": false
   },
   "id": "e57caff36d793732"
  },
  {
   "cell_type": "code",
   "execution_count": 113,
   "outputs": [
    {
     "name": "stderr",
     "output_type": "stream",
     "text": [
      "[nltk_data] Downloading package wordnet to\n",
      "[nltk_data]     C:\\Users\\dagbo_b40tnyc\\AppData\\Roaming\\nltk_data...\n",
      "[nltk_data]   Package wordnet is already up-to-date!\n",
      "[nltk_data] Downloading package stopwords to\n",
      "[nltk_data]     C:\\Users\\dagbo_b40tnyc\\AppData\\Roaming\\nltk_data...\n",
      "[nltk_data]   Package stopwords is already up-to-date!\n",
      "[nltk_data] Downloading package punkt to\n",
      "[nltk_data]     C:\\Users\\dagbo_b40tnyc\\AppData\\Roaming\\nltk_data...\n",
      "[nltk_data]   Package punkt is already up-to-date!\n"
     ]
    },
    {
     "data": {
      "text/plain": "True"
     },
     "execution_count": 113,
     "metadata": {},
     "output_type": "execute_result"
    }
   ],
   "source": [
    "# download the wordnet and stopwords corpus\n",
    "nltk.download('wordnet') # wordnet is a lexical database for the English language\n",
    "nltk.download('stopwords') # stopwords means words like 'the', 'a', 'an', 'is', 'are', etc.\n",
    "nltk.download('punkt') # punkt means punctuations"
   ],
   "metadata": {
    "collapsed": false,
    "ExecuteTime": {
     "end_time": "2024-03-02T05:39:40.151512200Z",
     "start_time": "2024-03-02T05:39:40.144672Z"
    }
   },
   "id": "b7d8a74774003d99"
  },
  {
   "cell_type": "markdown",
   "source": [
    "## Importing the json file"
   ],
   "metadata": {
    "collapsed": false
   },
   "id": "6a97228fcbc64bf8"
  },
  {
   "cell_type": "code",
   "execution_count": 114,
   "outputs": [],
   "source": [
    "# import intents file\n",
    "import json\n",
    "\n",
    "def load_intents():\n",
    "    with open('intents.json') as file:\n",
    "        intents = json.load(file)\n",
    "    return intents\n",
    "\n",
    "intents = load_intents()"
   ],
   "metadata": {
    "collapsed": false,
    "ExecuteTime": {
     "end_time": "2024-03-02T05:39:40.196974200Z",
     "start_time": "2024-03-02T05:39:40.153470300Z"
    }
   },
   "id": "fd60388bcd7d0514"
  },
  {
   "cell_type": "markdown",
   "source": [
    "## Preprocessing the data"
   ],
   "metadata": {
    "collapsed": false
   },
   "id": "aa1e1a71f5a3e8f4"
  },
  {
   "cell_type": "code",
   "execution_count": 115,
   "outputs": [],
   "source": [
    "# initialize lemmatizer to get stem of words\n",
    "lemmatizer = WordNetLemmatizer() # lemma is the root form of the word and it is very accurate than stemming\n",
    "\n",
    "\n",
    "# loop through each sentence in the intent's patterns\n",
    "def preprocess_intents(intents):\n",
    "    # create empty lists for documents, classes and words\n",
    "    documents = [] # documents means patterns\n",
    "    classes = [] # classes means tags\n",
    "    words = [] # words means vocabulary\n",
    "    ignore_letters = ['!', '?', ',', '.'] # ignore these letters\n",
    "    stop_words = set(stopwords.words('english')) # stop words are words like 'the', 'a', 'an', 'is', 'are', etc.\n",
    "\n",
    "\n",
    "    for intent in intents['intents']:\n",
    "        \n",
    "        # debug for keyerror @ 'patterns'\n",
    "        # print(intent['patterns'])\n",
    "        for pattern in intent['patterns']:\n",
    "            # tokenize each and every word in the sentence\n",
    "            word = nltk.word_tokenize(pattern) \n",
    "            # lemmatize each word and convert into lowercase\n",
    "            word = [lemmatizer.lemmatize(w.lower()) for w in word if w not in stop_words and w not in ignore_letters]\n",
    "            # add word to the word list\n",
    "            words.extend(word) # extend means add to the list and append means add to the end of the list\n",
    "            # add word(s) to documents\n",
    "            documents.append((word, intent['tag'])) #\n",
    "            # add tags to our classes list\n",
    "            if intent['tag'] not in classes: # if tag is not in classes list\n",
    "                classes.append(intent['tag']) # then add it to the classes list\n",
    "                \n",
    "    # sort words and remove duplicates\n",
    "    words = sorted(list(set(words)))\n",
    "    # sort classes\n",
    "    classes = sorted(list(set(classes)))\n",
    "    return documents, classes, words\n",
    "\n",
    "documents, classes, words = preprocess_intents(intents)\n"
   ],
   "metadata": {
    "collapsed": false,
    "ExecuteTime": {
     "end_time": "2024-03-02T05:39:40.223343500Z",
     "start_time": "2024-03-02T05:39:40.165716Z"
    }
   },
   "id": "ec96ddaa4d2cd674"
  },
  {
   "cell_type": "markdown",
   "source": [
    "## save the preprocessed data"
   ],
   "metadata": {
    "collapsed": false
   },
   "id": "1361248a261d307b"
  },
  {
   "cell_type": "code",
   "execution_count": 116,
   "outputs": [],
   "source": [
    "import pickle\n",
    "\n",
    "#save to file using pickle to dump\n",
    "pickle.dump(words, open ('words.pkl', 'wb'))#wb means writing into binariries\n",
    "pickle.dump(classes, open ('classes.pkl', 'wb'))\n"
   ],
   "metadata": {
    "collapsed": false,
    "ExecuteTime": {
     "end_time": "2024-03-02T05:39:40.225308300Z",
     "start_time": "2024-03-02T05:39:40.194055500Z"
    }
   },
   "id": "3c99826bd5b37a6"
  },
  {
   "cell_type": "markdown",
   "source": [
    "## Create training and testing data"
   ],
   "metadata": {
    "collapsed": false
   },
   "id": "7df4fb694b944680"
  },
  {
   "cell_type": "code",
   "execution_count": 117,
   "outputs": [],
   "source": [
    "\n",
    "#represents the words as numerical values using bag_of_words\n",
    "train = []\n",
    "empty_output = [0] * len(classes)\n",
    "\n",
    "for doc in documents:\n",
    "    #create an empty list of bag of words\n",
    "    bag = []\n",
    "    word_patterns = doc[0]\n",
    "    word_patterns = [lemmatizer.lemmatize(word.lower()) for word in word_patterns]\n",
    "    for word in words:\n",
    "        bag.append(1) if word in word_patterns  else bag.append(0)\n",
    "    \n",
    "    output = list(empty_output)\n",
    "    output[classes.index(doc[1])] = 1\n",
    "    # Ensure the 'bag' has the same length as 'words'\n",
    "    assert len(bag) == len(words), f\"Bag length: {len(bag)}, expected: {len(words)}\"\n",
    "    \n",
    "    # Ensure the 'output' has the same length as 'classes'\n",
    "    assert len(output) == len(classes), f\"Output length: {len(output)}, expected: {len(classes)}\"\n",
    "    train.append([bag, output])"
   ],
   "metadata": {
    "collapsed": false,
    "ExecuteTime": {
     "end_time": "2024-03-02T05:39:40.226274100Z",
     "start_time": "2024-03-02T05:39:40.215535300Z"
    }
   },
   "id": "7452a7b953f89515"
  },
  {
   "cell_type": "code",
   "execution_count": 118,
   "outputs": [],
   "source": [
    "# shuffle the features and make numpy array\n",
    "random.shuffle(train)\n",
    "# Before converting to a NumPy array, ensure all elements in 'train' have the same length\n",
    "#assert all(len(item) == len(train[0]) for item in train), \"Not all lists in 'train' have the same length.\"\n",
    "train = np.array(train, dtype=object)\n",
    "\n",
    "# create train and test lists. X - patterns, Y - intents\n",
    "train_x = list(train[:,0])\n",
    "train_y = list(train[:,1])\n",
    "\n"
   ],
   "metadata": {
    "collapsed": false,
    "ExecuteTime": {
     "end_time": "2024-03-02T05:39:40.239942700Z",
     "start_time": "2024-03-02T05:39:40.222368400Z"
    }
   },
   "id": "61519d1a972130b0"
  },
  {
   "cell_type": "markdown",
   "source": [
    "## Building the model using long short term memory (LSTM)"
   ],
   "metadata": {
    "collapsed": false
   },
   "id": "9466fc7cc7a044fa"
  },
  {
   "cell_type": "code",
   "execution_count": 119,
   "outputs": [],
   "source": [
    "# import tensorflow libraries\n",
    "import tensorflow as tf\n",
    "from tensorflow.keras.models import Sequential\n",
    "from tensorflow.keras.layers import Dense, Activation, Dropout\n",
    "from tensorflow.keras.optimizers import SGD\n",
    "from tensorflow.keras.optimizers.schedules import ExponentialDecay # learning rate decay over each update\n",
    "\n",
    "# Create a learning rate schedule\n",
    "lr_schedule = ExponentialDecay(\n",
    "    initial_learning_rate=0.01,\n",
    "    decay_steps=100000,\n",
    "    decay_rate=0.96,\n",
    "    staircase=True)\n",
    "\n",
    "# Build the model\n",
    "model = Sequential()\n",
    "model.add(Dense(128, input_shape=(len(train_x[0]),), activation='relu')) # input layer\n",
    "model.add(Dropout(0.5))\n",
    "model.add(Dense(64, activation='relu')) # hidden layer\n",
    "model.add(Dropout(0.5))\n",
    "model.add(Dense(len(train_y[0]), activation='softmax')) # output layer\n",
    "\n",
    "# Compile the model\n",
    "sgd = SGD(learning_rate=lr_schedule, momentum=0.9, nesterov=True) # stochastic gradient descent\n",
    "model.compile(loss='categorical_crossentropy', optimizer=sgd, metrics=['accuracy'])\n",
    "\n"
   ],
   "metadata": {
    "collapsed": false,
    "ExecuteTime": {
     "end_time": "2024-03-02T05:39:40.308863900Z",
     "start_time": "2024-03-02T05:39:40.235065400Z"
    }
   },
   "id": "f12e6e3ee3b2b1ee"
  },
  {
   "cell_type": "markdown",
   "source": [
    "## Training and saving the model"
   ],
   "metadata": {
    "collapsed": false
   },
   "id": "f38cafa22d677c7a"
  },
  {
   "cell_type": "code",
   "execution_count": 120,
   "outputs": [
    {
     "name": "stdout",
     "output_type": "stream",
     "text": [
      "Epoch 1/200\n",
      "57/57 [==============================] - 1s 2ms/step - loss: 4.3904 - accuracy: 0.0106\n",
      "Epoch 2/200\n",
      "57/57 [==============================] - 0s 2ms/step - loss: 4.3633 - accuracy: 0.0212\n",
      "Epoch 3/200\n",
      "57/57 [==============================] - 0s 2ms/step - loss: 4.3405 - accuracy: 0.0389\n",
      "Epoch 4/200\n",
      "57/57 [==============================] - 0s 2ms/step - loss: 4.3037 - accuracy: 0.0353\n",
      "Epoch 5/200\n",
      "57/57 [==============================] - 0s 2ms/step - loss: 4.2671 - accuracy: 0.0389\n",
      "Epoch 6/200\n",
      "57/57 [==============================] - 0s 2ms/step - loss: 4.2397 - accuracy: 0.0424\n",
      "Epoch 7/200\n",
      "57/57 [==============================] - 0s 3ms/step - loss: 4.1725 - accuracy: 0.0848\n",
      "Epoch 8/200\n",
      "57/57 [==============================] - 0s 2ms/step - loss: 4.1463 - accuracy: 0.0742\n",
      "Epoch 9/200\n",
      "57/57 [==============================] - 0s 3ms/step - loss: 4.0691 - accuracy: 0.1060\n",
      "Epoch 10/200\n",
      "57/57 [==============================] - 0s 3ms/step - loss: 3.9640 - accuracy: 0.1166\n",
      "Epoch 11/200\n",
      "57/57 [==============================] - 0s 2ms/step - loss: 3.8779 - accuracy: 0.1237\n",
      "Epoch 12/200\n",
      "57/57 [==============================] - 0s 2ms/step - loss: 3.7401 - accuracy: 0.1343\n",
      "Epoch 13/200\n",
      "57/57 [==============================] - 0s 2ms/step - loss: 3.5759 - accuracy: 0.1343\n",
      "Epoch 14/200\n",
      "57/57 [==============================] - 0s 2ms/step - loss: 3.4033 - accuracy: 0.1908\n",
      "Epoch 15/200\n",
      "57/57 [==============================] - 0s 2ms/step - loss: 3.4154 - accuracy: 0.1943\n",
      "Epoch 16/200\n",
      "57/57 [==============================] - 0s 2ms/step - loss: 3.2693 - accuracy: 0.2049\n",
      "Epoch 17/200\n",
      "57/57 [==============================] - 0s 2ms/step - loss: 3.0555 - accuracy: 0.2615\n",
      "Epoch 18/200\n",
      "57/57 [==============================] - 0s 2ms/step - loss: 2.9877 - accuracy: 0.2615\n",
      "Epoch 19/200\n",
      "57/57 [==============================] - 0s 2ms/step - loss: 2.8560 - accuracy: 0.2509\n",
      "Epoch 20/200\n",
      "57/57 [==============================] - 0s 2ms/step - loss: 2.7157 - accuracy: 0.2827\n",
      "Epoch 21/200\n",
      "57/57 [==============================] - 0s 2ms/step - loss: 2.7362 - accuracy: 0.2650\n",
      "Epoch 22/200\n",
      "57/57 [==============================] - 0s 2ms/step - loss: 2.5668 - accuracy: 0.3004\n",
      "Epoch 23/200\n",
      "57/57 [==============================] - 0s 2ms/step - loss: 2.5069 - accuracy: 0.3110\n",
      "Epoch 24/200\n",
      "57/57 [==============================] - 0s 2ms/step - loss: 2.3422 - accuracy: 0.3569\n",
      "Epoch 25/200\n",
      "57/57 [==============================] - 0s 2ms/step - loss: 2.1608 - accuracy: 0.4205\n",
      "Epoch 26/200\n",
      "57/57 [==============================] - 0s 2ms/step - loss: 2.1521 - accuracy: 0.3852\n",
      "Epoch 27/200\n",
      "57/57 [==============================] - 0s 2ms/step - loss: 2.0515 - accuracy: 0.4346\n",
      "Epoch 28/200\n",
      "57/57 [==============================] - 0s 2ms/step - loss: 1.9781 - accuracy: 0.4417\n",
      "Epoch 29/200\n",
      "57/57 [==============================] - 0s 2ms/step - loss: 2.0093 - accuracy: 0.4205\n",
      "Epoch 30/200\n",
      "57/57 [==============================] - 0s 2ms/step - loss: 1.7900 - accuracy: 0.5018\n",
      "Epoch 31/200\n",
      "57/57 [==============================] - 0s 2ms/step - loss: 1.8516 - accuracy: 0.4382\n",
      "Epoch 32/200\n",
      "57/57 [==============================] - 0s 2ms/step - loss: 1.7519 - accuracy: 0.4947\n",
      "Epoch 33/200\n",
      "57/57 [==============================] - 0s 2ms/step - loss: 1.7450 - accuracy: 0.5159\n",
      "Epoch 34/200\n",
      "57/57 [==============================] - 0s 2ms/step - loss: 1.7063 - accuracy: 0.4982\n",
      "Epoch 35/200\n",
      "57/57 [==============================] - 0s 2ms/step - loss: 1.5883 - accuracy: 0.5336\n",
      "Epoch 36/200\n",
      "57/57 [==============================] - 0s 2ms/step - loss: 1.6318 - accuracy: 0.5477\n",
      "Epoch 37/200\n",
      "57/57 [==============================] - 0s 2ms/step - loss: 1.6226 - accuracy: 0.5018\n",
      "Epoch 38/200\n",
      "57/57 [==============================] - 0s 2ms/step - loss: 1.4449 - accuracy: 0.5618\n",
      "Epoch 39/200\n",
      "57/57 [==============================] - 0s 2ms/step - loss: 1.4440 - accuracy: 0.5724\n",
      "Epoch 40/200\n",
      "57/57 [==============================] - 0s 2ms/step - loss: 1.4811 - accuracy: 0.5230\n",
      "Epoch 41/200\n",
      "57/57 [==============================] - 0s 2ms/step - loss: 1.3338 - accuracy: 0.5795\n",
      "Epoch 42/200\n",
      "57/57 [==============================] - 0s 2ms/step - loss: 1.2924 - accuracy: 0.5795\n",
      "Epoch 43/200\n",
      "57/57 [==============================] - 0s 2ms/step - loss: 1.2467 - accuracy: 0.6113\n",
      "Epoch 44/200\n",
      "57/57 [==============================] - 0s 2ms/step - loss: 1.2897 - accuracy: 0.6042\n",
      "Epoch 45/200\n",
      "57/57 [==============================] - 0s 2ms/step - loss: 1.3130 - accuracy: 0.6148\n",
      "Epoch 46/200\n",
      "57/57 [==============================] - 0s 2ms/step - loss: 1.2250 - accuracy: 0.6254\n",
      "Epoch 47/200\n",
      "57/57 [==============================] - 0s 2ms/step - loss: 1.0782 - accuracy: 0.6678\n",
      "Epoch 48/200\n",
      "57/57 [==============================] - 0s 2ms/step - loss: 1.2392 - accuracy: 0.6078\n",
      "Epoch 49/200\n",
      "57/57 [==============================] - 0s 2ms/step - loss: 1.2096 - accuracy: 0.6254\n",
      "Epoch 50/200\n",
      "57/57 [==============================] - 0s 2ms/step - loss: 1.0535 - accuracy: 0.6890\n",
      "Epoch 51/200\n",
      "57/57 [==============================] - 0s 2ms/step - loss: 1.1890 - accuracy: 0.6290\n",
      "Epoch 52/200\n",
      "57/57 [==============================] - 0s 2ms/step - loss: 1.0610 - accuracy: 0.6608\n",
      "Epoch 53/200\n",
      "57/57 [==============================] - 0s 2ms/step - loss: 1.3221 - accuracy: 0.5795\n",
      "Epoch 54/200\n",
      "57/57 [==============================] - 0s 2ms/step - loss: 1.0606 - accuracy: 0.6926\n",
      "Epoch 55/200\n",
      "57/57 [==============================] - 0s 2ms/step - loss: 1.0405 - accuracy: 0.6608\n",
      "Epoch 56/200\n",
      "57/57 [==============================] - 0s 2ms/step - loss: 1.0266 - accuracy: 0.6678\n",
      "Epoch 57/200\n",
      "57/57 [==============================] - 0s 2ms/step - loss: 1.0052 - accuracy: 0.7067\n",
      "Epoch 58/200\n",
      "57/57 [==============================] - 0s 2ms/step - loss: 0.9325 - accuracy: 0.6784\n",
      "Epoch 59/200\n",
      "57/57 [==============================] - 0s 2ms/step - loss: 1.0550 - accuracy: 0.6290\n",
      "Epoch 60/200\n",
      "57/57 [==============================] - 0s 2ms/step - loss: 1.0702 - accuracy: 0.6537\n",
      "Epoch 61/200\n",
      "57/57 [==============================] - 0s 2ms/step - loss: 0.9706 - accuracy: 0.6890\n",
      "Epoch 62/200\n",
      "57/57 [==============================] - 0s 2ms/step - loss: 0.9324 - accuracy: 0.6855\n",
      "Epoch 63/200\n",
      "57/57 [==============================] - 0s 2ms/step - loss: 1.0247 - accuracy: 0.6749\n",
      "Epoch 64/200\n",
      "57/57 [==============================] - 0s 2ms/step - loss: 0.9140 - accuracy: 0.6961\n",
      "Epoch 65/200\n",
      "57/57 [==============================] - 0s 2ms/step - loss: 1.0394 - accuracy: 0.6714\n",
      "Epoch 66/200\n",
      "57/57 [==============================] - 0s 2ms/step - loss: 1.0718 - accuracy: 0.6254\n",
      "Epoch 67/200\n",
      "57/57 [==============================] - 0s 2ms/step - loss: 0.9482 - accuracy: 0.6890\n",
      "Epoch 68/200\n",
      "57/57 [==============================] - 0s 2ms/step - loss: 0.9863 - accuracy: 0.6855\n",
      "Epoch 69/200\n",
      "57/57 [==============================] - 0s 2ms/step - loss: 0.8972 - accuracy: 0.6855\n",
      "Epoch 70/200\n",
      "57/57 [==============================] - 0s 2ms/step - loss: 0.9047 - accuracy: 0.6608\n",
      "Epoch 71/200\n",
      "57/57 [==============================] - 0s 2ms/step - loss: 0.9521 - accuracy: 0.6749\n",
      "Epoch 72/200\n",
      "57/57 [==============================] - 0s 3ms/step - loss: 0.9675 - accuracy: 0.6855\n",
      "Epoch 73/200\n",
      "57/57 [==============================] - 0s 3ms/step - loss: 0.8516 - accuracy: 0.7279\n",
      "Epoch 74/200\n",
      "57/57 [==============================] - 0s 2ms/step - loss: 0.9126 - accuracy: 0.6855\n",
      "Epoch 75/200\n",
      "57/57 [==============================] - 0s 3ms/step - loss: 0.8463 - accuracy: 0.7314\n",
      "Epoch 76/200\n",
      "57/57 [==============================] - 0s 2ms/step - loss: 0.9006 - accuracy: 0.7173\n",
      "Epoch 77/200\n",
      "57/57 [==============================] - 0s 3ms/step - loss: 0.8039 - accuracy: 0.7067\n",
      "Epoch 78/200\n",
      "57/57 [==============================] - 0s 3ms/step - loss: 0.9667 - accuracy: 0.6855\n",
      "Epoch 79/200\n",
      "57/57 [==============================] - 0s 3ms/step - loss: 0.8665 - accuracy: 0.6996\n",
      "Epoch 80/200\n",
      "57/57 [==============================] - 0s 3ms/step - loss: 0.8307 - accuracy: 0.7102\n",
      "Epoch 81/200\n",
      "57/57 [==============================] - 0s 3ms/step - loss: 0.7903 - accuracy: 0.7562\n",
      "Epoch 82/200\n",
      "57/57 [==============================] - 0s 3ms/step - loss: 0.7405 - accuracy: 0.7491\n",
      "Epoch 83/200\n",
      "57/57 [==============================] - 0s 2ms/step - loss: 0.8638 - accuracy: 0.6890\n",
      "Epoch 84/200\n",
      "57/57 [==============================] - 0s 2ms/step - loss: 0.8754 - accuracy: 0.6820\n",
      "Epoch 85/200\n",
      "57/57 [==============================] - 0s 2ms/step - loss: 0.8491 - accuracy: 0.7314\n",
      "Epoch 86/200\n",
      "57/57 [==============================] - 0s 2ms/step - loss: 0.7966 - accuracy: 0.6996\n",
      "Epoch 87/200\n",
      "57/57 [==============================] - 0s 2ms/step - loss: 0.8000 - accuracy: 0.7491\n",
      "Epoch 88/200\n",
      "57/57 [==============================] - 0s 2ms/step - loss: 0.8177 - accuracy: 0.7350\n",
      "Epoch 89/200\n",
      "57/57 [==============================] - 0s 2ms/step - loss: 0.7989 - accuracy: 0.7385\n",
      "Epoch 90/200\n",
      "57/57 [==============================] - 0s 2ms/step - loss: 0.8124 - accuracy: 0.7385\n",
      "Epoch 91/200\n",
      "57/57 [==============================] - 0s 2ms/step - loss: 0.7095 - accuracy: 0.7562\n",
      "Epoch 92/200\n",
      "57/57 [==============================] - 0s 2ms/step - loss: 0.7098 - accuracy: 0.7208\n",
      "Epoch 93/200\n",
      "57/57 [==============================] - 0s 2ms/step - loss: 0.7080 - accuracy: 0.7562\n",
      "Epoch 94/200\n",
      "57/57 [==============================] - 0s 2ms/step - loss: 0.7718 - accuracy: 0.7314\n",
      "Epoch 95/200\n",
      "57/57 [==============================] - 0s 2ms/step - loss: 0.7796 - accuracy: 0.7244\n",
      "Epoch 96/200\n",
      "57/57 [==============================] - 0s 2ms/step - loss: 0.6450 - accuracy: 0.7845\n",
      "Epoch 97/200\n",
      "57/57 [==============================] - 0s 3ms/step - loss: 0.8214 - accuracy: 0.6820\n",
      "Epoch 98/200\n",
      "57/57 [==============================] - 0s 2ms/step - loss: 0.7512 - accuracy: 0.7173\n",
      "Epoch 99/200\n",
      "57/57 [==============================] - 0s 2ms/step - loss: 0.8058 - accuracy: 0.7279\n",
      "Epoch 100/200\n",
      "57/57 [==============================] - 0s 2ms/step - loss: 0.7438 - accuracy: 0.7527\n",
      "Epoch 101/200\n",
      "57/57 [==============================] - 0s 2ms/step - loss: 0.6767 - accuracy: 0.7597\n",
      "Epoch 102/200\n",
      "57/57 [==============================] - 0s 2ms/step - loss: 0.7410 - accuracy: 0.7456\n",
      "Epoch 103/200\n",
      "57/57 [==============================] - 0s 2ms/step - loss: 0.7192 - accuracy: 0.7668\n",
      "Epoch 104/200\n",
      "57/57 [==============================] - 0s 2ms/step - loss: 0.7366 - accuracy: 0.7420\n",
      "Epoch 105/200\n",
      "57/57 [==============================] - 0s 2ms/step - loss: 0.7743 - accuracy: 0.7456\n",
      "Epoch 106/200\n",
      "57/57 [==============================] - 0s 2ms/step - loss: 0.6169 - accuracy: 0.7527\n",
      "Epoch 107/200\n",
      "57/57 [==============================] - 0s 2ms/step - loss: 0.7263 - accuracy: 0.7314\n",
      "Epoch 108/200\n",
      "57/57 [==============================] - 0s 2ms/step - loss: 0.6640 - accuracy: 0.7739\n",
      "Epoch 109/200\n",
      "57/57 [==============================] - 0s 2ms/step - loss: 0.6449 - accuracy: 0.7527\n",
      "Epoch 110/200\n",
      "57/57 [==============================] - 0s 2ms/step - loss: 0.7566 - accuracy: 0.7562\n",
      "Epoch 111/200\n",
      "57/57 [==============================] - 0s 2ms/step - loss: 0.7262 - accuracy: 0.7633\n",
      "Epoch 112/200\n",
      "57/57 [==============================] - 0s 3ms/step - loss: 0.7360 - accuracy: 0.7350\n",
      "Epoch 113/200\n",
      "57/57 [==============================] - 0s 2ms/step - loss: 0.7260 - accuracy: 0.7562\n",
      "Epoch 114/200\n",
      "57/57 [==============================] - 0s 2ms/step - loss: 0.6806 - accuracy: 0.7597\n",
      "Epoch 115/200\n",
      "57/57 [==============================] - 0s 2ms/step - loss: 0.6665 - accuracy: 0.7633\n",
      "Epoch 116/200\n",
      "57/57 [==============================] - 0s 2ms/step - loss: 0.6203 - accuracy: 0.7880\n",
      "Epoch 117/200\n",
      "57/57 [==============================] - 0s 2ms/step - loss: 0.5861 - accuracy: 0.8163\n",
      "Epoch 118/200\n",
      "57/57 [==============================] - 0s 2ms/step - loss: 0.7468 - accuracy: 0.7597\n",
      "Epoch 119/200\n",
      "57/57 [==============================] - 0s 2ms/step - loss: 0.5640 - accuracy: 0.8198\n",
      "Epoch 120/200\n",
      "57/57 [==============================] - 0s 2ms/step - loss: 0.6791 - accuracy: 0.7562\n",
      "Epoch 121/200\n",
      "57/57 [==============================] - 0s 2ms/step - loss: 0.6578 - accuracy: 0.7633\n",
      "Epoch 122/200\n",
      "57/57 [==============================] - 0s 2ms/step - loss: 0.6868 - accuracy: 0.7597\n",
      "Epoch 123/200\n",
      "57/57 [==============================] - 0s 2ms/step - loss: 0.6479 - accuracy: 0.7527\n",
      "Epoch 124/200\n",
      "57/57 [==============================] - 0s 2ms/step - loss: 0.6812 - accuracy: 0.7562\n",
      "Epoch 125/200\n",
      "57/57 [==============================] - 0s 2ms/step - loss: 0.6843 - accuracy: 0.7456\n",
      "Epoch 126/200\n",
      "57/57 [==============================] - 0s 2ms/step - loss: 0.6167 - accuracy: 0.7809\n",
      "Epoch 127/200\n",
      "57/57 [==============================] - 0s 2ms/step - loss: 0.5712 - accuracy: 0.8233\n",
      "Epoch 128/200\n",
      "57/57 [==============================] - 0s 2ms/step - loss: 0.6230 - accuracy: 0.7668\n",
      "Epoch 129/200\n",
      "57/57 [==============================] - 0s 2ms/step - loss: 0.5850 - accuracy: 0.7880\n",
      "Epoch 130/200\n",
      "57/57 [==============================] - 0s 2ms/step - loss: 0.7438 - accuracy: 0.7314\n",
      "Epoch 131/200\n",
      "57/57 [==============================] - 0s 2ms/step - loss: 0.6854 - accuracy: 0.7597\n",
      "Epoch 132/200\n",
      "57/57 [==============================] - 0s 2ms/step - loss: 0.6316 - accuracy: 0.7527\n",
      "Epoch 133/200\n",
      "57/57 [==============================] - 0s 2ms/step - loss: 0.5908 - accuracy: 0.7915\n",
      "Epoch 134/200\n",
      "57/57 [==============================] - 0s 2ms/step - loss: 0.6958 - accuracy: 0.7633\n",
      "Epoch 135/200\n",
      "57/57 [==============================] - 0s 2ms/step - loss: 0.5705 - accuracy: 0.8057\n",
      "Epoch 136/200\n",
      "57/57 [==============================] - 0s 2ms/step - loss: 0.5362 - accuracy: 0.8127\n",
      "Epoch 137/200\n",
      "57/57 [==============================] - 0s 2ms/step - loss: 0.6125 - accuracy: 0.7845\n",
      "Epoch 138/200\n",
      "57/57 [==============================] - 0s 2ms/step - loss: 0.6454 - accuracy: 0.7597\n",
      "Epoch 139/200\n",
      "57/57 [==============================] - 0s 2ms/step - loss: 0.6601 - accuracy: 0.7845\n",
      "Epoch 140/200\n",
      "57/57 [==============================] - 0s 2ms/step - loss: 0.5588 - accuracy: 0.7986\n",
      "Epoch 141/200\n",
      "57/57 [==============================] - 0s 2ms/step - loss: 0.6273 - accuracy: 0.7491\n",
      "Epoch 142/200\n",
      "57/57 [==============================] - 0s 2ms/step - loss: 0.6446 - accuracy: 0.7633\n",
      "Epoch 143/200\n",
      "57/57 [==============================] - 0s 2ms/step - loss: 0.6133 - accuracy: 0.7774\n",
      "Epoch 144/200\n",
      "57/57 [==============================] - 0s 2ms/step - loss: 0.6365 - accuracy: 0.7633\n",
      "Epoch 145/200\n",
      "57/57 [==============================] - 0s 2ms/step - loss: 0.6535 - accuracy: 0.7597\n",
      "Epoch 146/200\n",
      "57/57 [==============================] - 0s 2ms/step - loss: 0.5666 - accuracy: 0.7809\n",
      "Epoch 147/200\n",
      "57/57 [==============================] - 0s 2ms/step - loss: 0.5378 - accuracy: 0.8057\n",
      "Epoch 148/200\n",
      "57/57 [==============================] - 0s 2ms/step - loss: 0.5628 - accuracy: 0.7774\n",
      "Epoch 149/200\n",
      "57/57 [==============================] - 0s 2ms/step - loss: 0.5566 - accuracy: 0.7880\n",
      "Epoch 150/200\n",
      "57/57 [==============================] - 0s 2ms/step - loss: 0.5798 - accuracy: 0.8021\n",
      "Epoch 151/200\n",
      "57/57 [==============================] - 0s 2ms/step - loss: 0.4631 - accuracy: 0.8092\n",
      "Epoch 152/200\n",
      "57/57 [==============================] - 0s 2ms/step - loss: 0.4584 - accuracy: 0.8375\n",
      "Epoch 153/200\n",
      "57/57 [==============================] - 0s 2ms/step - loss: 0.5803 - accuracy: 0.8127\n",
      "Epoch 154/200\n",
      "57/57 [==============================] - 0s 2ms/step - loss: 0.5679 - accuracy: 0.7986\n",
      "Epoch 155/200\n",
      "57/57 [==============================] - 0s 2ms/step - loss: 0.6749 - accuracy: 0.7385\n",
      "Epoch 156/200\n",
      "57/57 [==============================] - 0s 2ms/step - loss: 0.5331 - accuracy: 0.7633\n",
      "Epoch 157/200\n",
      "57/57 [==============================] - 0s 2ms/step - loss: 0.6103 - accuracy: 0.7703\n",
      "Epoch 158/200\n",
      "57/57 [==============================] - 0s 2ms/step - loss: 0.6359 - accuracy: 0.7774\n",
      "Epoch 159/200\n",
      "57/57 [==============================] - 0s 2ms/step - loss: 0.5818 - accuracy: 0.7774\n",
      "Epoch 160/200\n",
      "57/57 [==============================] - 0s 2ms/step - loss: 0.6323 - accuracy: 0.7739\n",
      "Epoch 161/200\n",
      "57/57 [==============================] - 0s 2ms/step - loss: 0.6670 - accuracy: 0.7314\n",
      "Epoch 162/200\n",
      "57/57 [==============================] - 0s 2ms/step - loss: 0.5663 - accuracy: 0.7703\n",
      "Epoch 163/200\n",
      "57/57 [==============================] - 0s 2ms/step - loss: 0.4771 - accuracy: 0.8127\n",
      "Epoch 164/200\n",
      "57/57 [==============================] - 0s 2ms/step - loss: 0.5126 - accuracy: 0.8092\n",
      "Epoch 165/200\n",
      "57/57 [==============================] - 0s 2ms/step - loss: 0.5852 - accuracy: 0.7527\n",
      "Epoch 166/200\n",
      "57/57 [==============================] - 0s 2ms/step - loss: 0.6165 - accuracy: 0.7809\n",
      "Epoch 167/200\n",
      "57/57 [==============================] - 0s 2ms/step - loss: 0.6316 - accuracy: 0.7809\n",
      "Epoch 168/200\n",
      "57/57 [==============================] - 0s 2ms/step - loss: 0.6398 - accuracy: 0.7880\n",
      "Epoch 169/200\n",
      "57/57 [==============================] - 0s 2ms/step - loss: 0.5660 - accuracy: 0.7986\n",
      "Epoch 170/200\n",
      "57/57 [==============================] - 0s 2ms/step - loss: 0.6565 - accuracy: 0.7739\n",
      "Epoch 171/200\n",
      "57/57 [==============================] - 0s 2ms/step - loss: 0.5722 - accuracy: 0.7845\n",
      "Epoch 172/200\n",
      "57/57 [==============================] - 0s 2ms/step - loss: 0.6484 - accuracy: 0.7314\n",
      "Epoch 173/200\n",
      "57/57 [==============================] - 0s 2ms/step - loss: 0.4512 - accuracy: 0.8304\n",
      "Epoch 174/200\n",
      "57/57 [==============================] - 0s 2ms/step - loss: 0.5095 - accuracy: 0.8163\n",
      "Epoch 175/200\n",
      "57/57 [==============================] - 0s 2ms/step - loss: 0.5529 - accuracy: 0.8057\n",
      "Epoch 176/200\n",
      "57/57 [==============================] - 0s 2ms/step - loss: 0.5011 - accuracy: 0.8163\n",
      "Epoch 177/200\n",
      "57/57 [==============================] - 0s 2ms/step - loss: 0.5565 - accuracy: 0.8021\n",
      "Epoch 178/200\n",
      "57/57 [==============================] - 0s 2ms/step - loss: 0.6533 - accuracy: 0.7314\n",
      "Epoch 179/200\n",
      "57/57 [==============================] - 0s 2ms/step - loss: 0.6250 - accuracy: 0.7527\n",
      "Epoch 180/200\n",
      "57/57 [==============================] - 0s 2ms/step - loss: 0.5806 - accuracy: 0.7527\n",
      "Epoch 181/200\n",
      "57/57 [==============================] - 0s 2ms/step - loss: 0.5821 - accuracy: 0.7986\n",
      "Epoch 182/200\n",
      "57/57 [==============================] - 0s 2ms/step - loss: 0.6347 - accuracy: 0.7527\n",
      "Epoch 183/200\n",
      "57/57 [==============================] - 0s 2ms/step - loss: 0.5569 - accuracy: 0.8127\n",
      "Epoch 184/200\n",
      "57/57 [==============================] - 0s 2ms/step - loss: 0.6738 - accuracy: 0.7597\n",
      "Epoch 185/200\n",
      "57/57 [==============================] - 0s 2ms/step - loss: 0.5113 - accuracy: 0.8021\n",
      "Epoch 186/200\n",
      "57/57 [==============================] - 0s 2ms/step - loss: 0.6182 - accuracy: 0.7456\n",
      "Epoch 187/200\n",
      "57/57 [==============================] - 0s 2ms/step - loss: 0.6360 - accuracy: 0.7703\n",
      "Epoch 188/200\n",
      "57/57 [==============================] - 0s 2ms/step - loss: 0.7076 - accuracy: 0.7527\n",
      "Epoch 189/200\n",
      "57/57 [==============================] - 0s 2ms/step - loss: 0.5355 - accuracy: 0.7809\n",
      "Epoch 190/200\n",
      "57/57 [==============================] - 0s 2ms/step - loss: 0.5363 - accuracy: 0.8057\n",
      "Epoch 191/200\n",
      "57/57 [==============================] - 0s 3ms/step - loss: 0.6085 - accuracy: 0.7809\n",
      "Epoch 192/200\n",
      "57/57 [==============================] - 0s 3ms/step - loss: 0.5711 - accuracy: 0.7845\n",
      "Epoch 193/200\n",
      "57/57 [==============================] - 0s 3ms/step - loss: 0.5709 - accuracy: 0.7774\n",
      "Epoch 194/200\n",
      "57/57 [==============================] - 0s 2ms/step - loss: 0.5492 - accuracy: 0.7951\n",
      "Epoch 195/200\n",
      "57/57 [==============================] - 0s 2ms/step - loss: 0.6093 - accuracy: 0.7527\n",
      "Epoch 196/200\n",
      "57/57 [==============================] - 0s 2ms/step - loss: 0.5778 - accuracy: 0.8021\n",
      "Epoch 197/200\n",
      "57/57 [==============================] - 0s 2ms/step - loss: 0.6074 - accuracy: 0.7880\n",
      "Epoch 198/200\n",
      "57/57 [==============================] - 0s 2ms/step - loss: 0.7715 - accuracy: 0.7456\n",
      "Epoch 199/200\n",
      "57/57 [==============================] - 0s 2ms/step - loss: 0.6410 - accuracy: 0.7668\n",
      "Epoch 200/200\n",
      "57/57 [==============================] - 0s 2ms/step - loss: 0.5671 - accuracy: 0.7915\n",
      "9/9 [==============================] - 0s 2ms/step - loss: 0.1616 - accuracy: 0.9117\n",
      "Loss: 0.16163186728954315, accuracy: 0.9116607904434204\n"
     ]
    }
   ],
   "source": [
    "# Training and saving the model\n",
    "solentBot = model.fit(np.array(train_x), np.array(train_y), epochs=200, batch_size=5, verbose=1)\n",
    "loss, accuracy = model.evaluate(np.array(train_x), np.array(train_y))\n",
    "print(f\"Loss: {loss}, accuracy: {accuracy}\")\n",
    "#model.save('solentBot_model.h5', solentBot)"
   ],
   "metadata": {
    "collapsed": false,
    "ExecuteTime": {
     "end_time": "2024-03-02T05:40:07.899734400Z",
     "start_time": "2024-03-02T05:39:40.305937500Z"
    }
   },
   "id": "bb88c814a747a8c8"
  },
  {
   "cell_type": "code",
   "execution_count": 121,
   "outputs": [
    {
     "name": "stdout",
     "output_type": "stream",
     "text": [
      "model created, saved and trained\n"
     ]
    }
   ],
   "source": [
    "# save the model to disk\n",
    "model.save('solentBot_model.h5', solentBot)\n",
    "print(\"model created, saved and trained\")"
   ],
   "metadata": {
    "collapsed": false,
    "ExecuteTime": {
     "end_time": "2024-03-02T05:40:07.936385400Z",
     "start_time": "2024-03-02T05:40:07.894676100Z"
    }
   },
   "id": "b651e51c6321de7e"
  },
  {
   "cell_type": "code",
   "outputs": [],
   "source": [
    "# evaluate the model to check for confidence score of the predictions\n",
    "def bag_of_words(s, words):\n",
    "    bag = [0 for _ in range(len(words))]\n",
    "    \n",
    "    s_words = nltk.word_tokenize(s)\n",
    "    s_words = [lemmatizer.lemmatize(word.lower()) for word in s_words]\n",
    "    \n",
    "    for se in s_words:\n",
    "        for i, w in enumerate(words):\n",
    "            if w == se:\n",
    "                bag[i] = 1\n",
    "                \n",
    "    return np.array(bag)\n",
    "\n",
    "def predict_class(s, model):\n",
    "    bow = bag_of_words(s, words)\n",
    "    res = model.predict(np.array([bow]))[0]\n",
    "    ERROR_THRESHOLD = 0.25\n",
    "    results = [[i, r] for i, r in enumerate(res) if r > ERROR_THRESHOLD]\n",
    "    \n",
    "    # sort by strength of probability\n",
    "    results.sort(key=lambda x: x[1], reverse=True)\n",
    "    return_list = []\n",
    "    for r in results:\n",
    "        return_list.append({'intent': classes[r[0]], 'probability': str(r[1])})\n",
    "        \n",
    "    return return_list\n",
    "\n",
    "def get_response(intents_list, intents_json):\n",
    "    tag = intents_list[0]['intent']\n",
    "    list_of_intents = intents_json['intents']\n",
    "    \n",
    "    for i in list_of_intents:\n",
    "        if i['tag'] == tag:\n",
    "            result = random.choice(i['responses'])\n",
    "            break\n",
    "            \n",
    "    return result\n",
    "\n"
   ],
   "metadata": {
    "collapsed": false,
    "ExecuteTime": {
     "end_time": "2024-03-02T05:40:07.950056400Z",
     "start_time": "2024-03-02T05:40:07.941273900Z"
    }
   },
   "id": "2a6e18d4198f1304",
   "execution_count": 122
  },
  {
   "cell_type": "code",
   "outputs": [],
   "source": [
    "# chatbot response\n",
    "def chatbot_response(text):\n",
    "    ints = predict_class(text, model)\n",
    "    res = get_response(ints, intents)\n",
    "    return res\n",
    "\n"
   ],
   "metadata": {
    "collapsed": false,
    "ExecuteTime": {
     "end_time": "2024-03-02T05:40:07.982141700Z",
     "start_time": "2024-03-02T05:40:07.949075400Z"
    }
   },
   "id": "3971d4e293b9ddc3",
   "execution_count": 123
  },
  {
   "cell_type": "code",
   "outputs": [
    {
     "name": "stdout",
     "output_type": "stream",
     "text": [
      "1/1 [==============================] - 0s 55ms/step\n",
      "1/1 [==============================] - 0s 22ms/step\n"
     ]
    }
   ],
   "source": [
    "# create GUI\n",
    "import tkinter\n",
    "from tkinter import *\n",
    "\n",
    "def send():\n",
    "    msg = EntryBox.get(\"1.0\", 'end-1c').strip()\n",
    "    EntryBox.delete(\"0.0\", END)\n",
    "    \n",
    "    if msg != '':\n",
    "        ChatLog.config(state=NORMAL)\n",
    "        ChatLog.insert(END, \"You: \" + msg + '\\n\\n')\n",
    "        ChatLog.config(foreground=\"#442265\", font=(\"Verdana\", 12))\n",
    "        \n",
    "        res = chatbot_response(msg)\n",
    "        ChatLog.insert(END, \"SolentBot: \" + res + '\\n\\n')\n",
    "        \n",
    "        ChatLog.config(state=DISABLED)\n",
    "        ChatLog.yview(END)\n",
    "        \n",
    "base = Tk()\n",
    "base.title(\"SolentBot\")\n",
    "base.geometry(\"400x500\")\n",
    "base.resizable(width=FALSE, height=FALSE)\n",
    "\n",
    "# create chat window\n",
    "\n",
    "ChatLog = Text(base, bd=0, bg=\"white\", height=\"8\", width=\"50\", font=\"Arial\",)\n",
    "\n",
    "ChatLog.config(state=DISABLED)\n",
    "\n",
    "# bind scrollbar to chat window\n",
    "scrollbar = Scrollbar(base, command=ChatLog.yview, cursor=\"heart\")\n",
    "\n",
    "ChatLog['yscrollcommand'] = scrollbar.set\n",
    "\n",
    "# create button to send message\n",
    "SendButton = Button(base, font=(\"Verdana\", 12, 'bold'), text=\"Send\", width=\"12\", height=5,\n",
    "                    bd=0, bg=\"#32de97\", activebackground=\"#3c9d9b\", fg='#ffffff',\n",
    "                    command=send)\n",
    "\n",
    "# create the box to enter message\n",
    "EntryBox = Text(base, bd=0, bg=\"white\", width=\"29\", height=\"5\", font=\"Arial\")\n",
    "\n",
    "# place all components on the screen\n",
    "scrollbar.place(x=376, y=6, height=386)\n",
    "\n",
    "ChatLog.place(x=6, y=6, height=386, width=370)\n",
    "\n",
    "EntryBox.place(x=128, y=401, height=90, width=265)\n",
    "\n",
    "SendButton.place(x=6, y=401, height=90)\n",
    "    \n",
    "    \n",
    "base.mainloop()\n",
    "\n"
   ],
   "metadata": {
    "collapsed": false,
    "ExecuteTime": {
     "end_time": "2024-03-02T05:41:09.831129100Z",
     "start_time": "2024-03-02T05:40:07.965544700Z"
    }
   },
   "id": "f0f8be86c9856eaa",
   "execution_count": 124
  },
  {
   "cell_type": "code",
   "outputs": [
    {
     "name": "stdout",
     "output_type": "stream",
     "text": [
      "1/1 [==============================] - 0s 25ms/step\n",
      "[{'intent': 'name', 'probability': '0.3944052'}]\n",
      "1/1 [==============================] - 0s 24ms/step\n",
      "[{'intent': 'courses', 'probability': '0.9998982'}]\n"
     ]
    }
   ],
   "source": [
    "# test the confidence score of the predictions and show the percentage of the confidence score  just by typing a tag\n",
    "print(predict_class('solent', model))\n",
    "print(predict_class('courses', model))\n"
   ],
   "metadata": {
    "collapsed": false,
    "ExecuteTime": {
     "end_time": "2024-03-02T05:41:09.992073800Z",
     "start_time": "2024-03-02T05:41:09.815160300Z"
    }
   },
   "id": "e8228ee95480981e",
   "execution_count": 125
  },
  {
   "cell_type": "code",
   "outputs": [],
   "source": [],
   "metadata": {
    "collapsed": false,
    "ExecuteTime": {
     "end_time": "2024-03-02T05:41:10.003793Z",
     "start_time": "2024-03-02T05:41:09.995004900Z"
    }
   },
   "id": "ffb7a70288809d4f",
   "execution_count": 125
  }
 ],
 "metadata": {
  "kernelspec": {
   "display_name": "Python 3",
   "language": "python",
   "name": "python3"
  },
  "language_info": {
   "codemirror_mode": {
    "name": "ipython",
    "version": 2
   },
   "file_extension": ".py",
   "mimetype": "text/x-python",
   "name": "python",
   "nbconvert_exporter": "python",
   "pygments_lexer": "ipython2",
   "version": "2.7.6"
  }
 },
 "nbformat": 4,
 "nbformat_minor": 5
}
